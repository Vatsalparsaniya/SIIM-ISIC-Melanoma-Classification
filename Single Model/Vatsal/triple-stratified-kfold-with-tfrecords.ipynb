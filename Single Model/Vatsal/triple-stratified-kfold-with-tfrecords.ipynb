{
 "cells": [
  {
   "cell_type": "markdown",
   "execution_count": null,
   "metadata": {
    "papermill": {
     "duration": 0.012905,
     "end_time": "2020-08-11T14:05:12.009335",
     "exception": false,
     "start_time": "2020-08-11T14:05:11.996430",
     "status": "completed"
    },
    "tags": []
   },
   "source": [
    "# Initialize Environment"
   ]
  },
  {
   "cell_type": "code",
   "execution_count": 1,
   "metadata": {
    "execution": {
     "iopub.execute_input": "2020-08-11T14:05:12.038394Z",
     "iopub.status.busy": "2020-08-11T14:05:12.037668Z",
     "iopub.status.idle": "2020-08-11T14:05:12.041067Z",
     "shell.execute_reply": "2020-08-11T14:05:12.040417Z"
    },
    "papermill": {
     "duration": 0.018867,
     "end_time": "2020-08-11T14:05:12.041190",
     "exception": false,
     "start_time": "2020-08-11T14:05:12.022323",
     "status": "completed"
    },
    "tags": []
   },
   "outputs": [],
   "source": [
    "# !pip install image-classifiers==1.0.0b1\n",
    "# # from classification_models.tfkeras import Classifiers"
   ]
  },
  {
   "cell_type": "code",
   "execution_count": 2,
   "metadata": {
    "execution": {
     "iopub.execute_input": "2020-08-11T14:05:12.080263Z",
     "iopub.status.busy": "2020-08-11T14:05:12.079310Z",
     "iopub.status.idle": "2020-08-11T14:05:39.072756Z",
     "shell.execute_reply": "2020-08-11T14:05:39.072020Z"
    },
    "papermill": {
     "duration": 27.020336,
     "end_time": "2020-08-11T14:05:39.072894",
     "exception": false,
     "start_time": "2020-08-11T14:05:12.052558",
     "status": "completed"
    },
    "tags": []
   },
   "outputs": [
    {
     "name": "stdout",
     "output_type": "stream",
     "text": [
      "\u001b[33mWARNING: You are using pip version 20.1.1; however, version 20.2.2 is available.\r\n",
      "You should consider upgrading via the '/opt/conda/bin/python3.7 -m pip install --upgrade pip' command.\u001b[0m\r\n",
      "Requirement already satisfied: colorama in /opt/conda/lib/python3.7/site-packages (0.4.3)\r\n",
      "\u001b[33mWARNING: You are using pip version 20.1.1; however, version 20.2.2 is available.\r\n",
      "You should consider upgrading via the '/opt/conda/bin/python3.7 -m pip install --upgrade pip' command.\u001b[0m\r\n"
     ]
    }
   ],
   "source": [
    "!pip install -q efficientnet >> /dev/null\n",
    "!pip install colorama\n",
    "import tensorflow_addons as tfa\n",
    "import pandas as pd, numpy as np\n",
    "from kaggle_datasets import KaggleDatasets\n",
    "import tensorflow as tf, re, math\n",
    "import tensorflow.keras.backend as K\n",
    "import efficientnet.tfkeras as efn\n",
    "from sklearn.model_selection import KFold\n",
    "from sklearn.metrics import roc_auc_score\n",
    "import matplotlib.pyplot as plt\n",
    "from colorama import Fore, Back, Style"
   ]
  },
  {
   "cell_type": "markdown",
   "execution_count": null,
   "metadata": {
    "papermill": {
     "duration": 0.010921,
     "end_time": "2020-08-11T14:05:39.095874",
     "exception": false,
     "start_time": "2020-08-11T14:05:39.084953",
     "status": "completed"
    },
    "tags": []
   },
   "source": [
    "## Configuration\n",
    "In order to be a proper cross validation with a meaningful overall CV score (aligned with LB score), **you need to choose the same** `IMG_SIZES`, `INC2019`, `INC2018`, and `EFF_NETS` **for each fold**. If your goal is to just run lots of experiments, then you can choose to have a different experiment in each fold. Then each fold is like a holdout validation experiment. When you find a configuration you like, you can use that configuration for all folds. \n",
    "* DEVICE - is GPU or TPU\n",
    "* SEED - a different seed produces a different triple stratified kfold split.\n",
    "* FOLDS - number of folds. Best set to 3, 5, or 15 but can be any number between 2 and 15\n",
    "* IMG_SIZES - is a Python list of length FOLDS. These are the image sizes to use each fold\n",
    "* INC2019 - This includes the new half of the 2019 competition data. The second half of the 2019 data is the comp data from 2018 plus 2017\n",
    "* INC2018 - This includes the second half of the 2019 competition data which is the comp data from 2018 plus 2017\n",
    "* BATCH_SIZES - is a list of length FOLDS. These are batch sizes for each fold. For maximum speed, it is best to use the largest batch size your GPU or TPU allows.\n",
    "* EPOCHS - is a list of length FOLDS. These are maximum epochs. Note that each fold, the best epoch model is saved and used. So if epochs is too large, it won't matter.\n",
    "* EFF_NETS - is a list of length FOLDS. These are the EfficientNets to use each fold. The number refers to the B. So a number of `0` refers to EfficientNetB0, and `1` refers to EfficientNetB1, etc.\n",
    "* WGTS - this should be `1/FOLDS` for each fold. This is the weight when ensembling the folds to predict the test set. If you want a weird ensemble, you can use different weights.\n",
    "* TTA - test time augmentation. Each test image is randomly augmented and predicted TTA times and the average prediction is used. TTA is also applied to OOF during validation.\n",
    "* M1 - is a list of length EXPERIMENTS. For each experiment, choose 0, 1, 2, 3, etc. Determines how many additional copies of malignant images from this years comp data to add\n",
    "* M2 - is a list. Adds copies of malignant images from ISIC archive that are not in 2020, 2019, 2018, 2017 comp data\n",
    "* M3 - is a list. Adds copies of malignant images from 2019 comp data. They have been filtered to include the ones that look like 2020 data\n",
    "* M4 - is a list. Adds copies of malignant images from 2018 2017 data."
   ]
  },
  {
   "cell_type": "code",
   "execution_count": 3,
   "metadata": {
    "_cell_guid": "79c7e3d0-c299-4dcb-8224-4455121ee9b0",
    "_uuid": "d629ff2d2480ee46fbb7e2d37f6b5fab8052498a",
    "execution": {
     "iopub.execute_input": "2020-08-11T14:05:39.265741Z",
     "iopub.status.busy": "2020-08-11T14:05:39.262659Z",
     "iopub.status.idle": "2020-08-11T14:05:39.269315Z",
     "shell.execute_reply": "2020-08-11T14:05:39.268669Z"
    },
    "papermill": {
     "duration": 0.162321,
     "end_time": "2020-08-11T14:05:39.269439",
     "exception": false,
     "start_time": "2020-08-11T14:05:39.107118",
     "status": "completed"
    },
    "tags": []
   },
   "outputs": [],
   "source": [
    "DEVICE = \"TPU\" #or \"GPU\"\n",
    "\n",
    "# USE DIFFERENT SEED FOR DIFFERENT STRATIFIED KFOLD\n",
    "SEED = 42\n",
    "\n",
    "# NUMBER OF FOLDS. USE 3, 5, OR 15 \n",
    "FOLDS = 3\n",
    "\n",
    "# WHICH IMAGE SIZES TO LOAD EACH FOLD\n",
    "# CHOOSE 128, 192, 256, 384, 512, 768 \n",
    "IMG_SIZES = [384] * FOLDS\n",
    "\n",
    "# INCLUDE OLD COMP DATA? YES=1 NO=0\n",
    "INC2019 = [0] * FOLDS\n",
    "INC2018 = [1] * FOLDS\n",
    "\n",
    "# UPSAMPLE MALIGNANT COUNT TIMES\n",
    "M1 = [0]* FOLDS #2020 malig\n",
    "M2 = [0]* FOLDS #ISIC malig\n",
    "M3 = [1]* FOLDS #2019 good malig\n",
    "M4 = [0]* FOLDS #2018 2017 malig\n",
    "\n",
    "# BATCH SIZE AND EPOCHS\n",
    "BATCH_SIZES = [32]*FOLDS\n",
    "EPOCHS = [20]*FOLDS\n",
    "\n",
    "# WHICH EFFICIENTNET B? TO USE\n",
    "EFF_NETS = [5] * FOLDS\n",
    "\n",
    "# COARSE DROPOUT\n",
    "DROP_FREQ = [0]*FOLDS # between 0 and 1\n",
    "DROP_CT = [0]*FOLDS # may slow training if CT>16\n",
    "DROP_SIZE = [0]*FOLDS # between 0 and 1\n",
    "\n",
    "# WEIGHTS FOR FOLD MODELS WHEN PREDICTING TEST\n",
    "WGTS = [1/FOLDS]*FOLDS\n",
    "\n",
    "# TEST TIME AUGMENTATION STEPS\n",
    "TTA = 25\n",
    "\n",
    "# CHECKPOINTS\n",
    "ModelCheckpoint = True\n",
    "CSVLogger = True\n",
    "Rampup_Decay = True\n",
    "Cosine_Schedule = False\n",
    "CUTOUT = True\n",
    "# LOSS [ BinaryCrossentropy == True , Focal Loss == False ]\n",
    "BCE = False "
   ]
  },
  {
   "cell_type": "code",
   "execution_count": 4,
   "metadata": {
    "execution": {
     "iopub.execute_input": "2020-08-11T14:05:39.414438Z",
     "iopub.status.busy": "2020-08-11T14:05:39.316071Z",
     "iopub.status.idle": "2020-08-11T14:05:43.947617Z",
     "shell.execute_reply": "2020-08-11T14:05:43.946851Z"
    },
    "papermill": {
     "duration": 4.666569,
     "end_time": "2020-08-11T14:05:43.947750",
     "exception": false,
     "start_time": "2020-08-11T14:05:39.281181",
     "status": "completed"
    },
    "tags": []
   },
   "outputs": [
    {
     "name": "stdout",
     "output_type": "stream",
     "text": [
      "connecting to TPU...\n",
      "Running on TPU  grpc://10.0.0.2:8470\n",
      "initializing  TPU ...\n",
      "TPU initialized\n",
      "REPLICAS: 8\n"
     ]
    }
   ],
   "source": [
    "if DEVICE == \"TPU\":\n",
    "    print(\"connecting to TPU...\")\n",
    "    try:\n",
    "        tpu = tf.distribute.cluster_resolver.TPUClusterResolver()\n",
    "        print('Running on TPU ', tpu.master())\n",
    "    except ValueError:\n",
    "        print(\"Could not connect to TPU\")\n",
    "        tpu = None\n",
    "\n",
    "    if tpu:\n",
    "        try:\n",
    "            print(\"initializing  TPU ...\")\n",
    "            tf.config.experimental_connect_to_cluster(tpu)\n",
    "            tf.tpu.experimental.initialize_tpu_system(tpu)\n",
    "            strategy = tf.distribute.experimental.TPUStrategy(tpu)\n",
    "            print(\"TPU initialized\")\n",
    "        except _:\n",
    "            print(\"failed to initialize TPU\")\n",
    "    else:\n",
    "        DEVICE = \"GPU\"\n",
    "\n",
    "if DEVICE != \"TPU\":\n",
    "    print(\"Using default strategy for CPU and single GPU\")\n",
    "    strategy = tf.distribute.get_strategy()\n",
    "\n",
    "if DEVICE == \"GPU\":\n",
    "    print(\"Num GPUs Available: \", len(tf.config.experimental.list_physical_devices('GPU')))\n",
    "    \n",
    "\n",
    "AUTO     = tf.data.experimental.AUTOTUNE\n",
    "REPLICAS = strategy.num_replicas_in_sync\n",
    "print(f'REPLICAS: {REPLICAS}')"
   ]
  },
  {
   "cell_type": "markdown",
   "execution_count": null,
   "metadata": {
    "papermill": {
     "duration": 0.011199,
     "end_time": "2020-08-11T14:05:43.970804",
     "exception": false,
     "start_time": "2020-08-11T14:05:43.959605",
     "status": "completed"
    },
    "tags": []
   },
   "source": [
    "# Step 1: Preprocess\n",
    "Preprocess has already been done and saved to TFRecords. Here we choose which size to load. We can use either 128x128, 192x192, 256x256, 384x384, 512x512, 768x768 by changing the `IMG_SIZES` variable in the preceeding code section. These TFRecords are discussed [here][1]. The advantage of using different input sizes is discussed [here][2]\n",
    "\n",
    "[1]: https://www.kaggle.com/c/siim-isic-melanoma-classification/discussion/155579\n",
    "[2]: https://www.kaggle.com/c/siim-isic-melanoma-classification/discussion/160147"
   ]
  },
  {
   "cell_type": "code",
   "execution_count": 5,
   "metadata": {
    "execution": {
     "iopub.execute_input": "2020-08-11T14:05:44.005784Z",
     "iopub.status.busy": "2020-08-11T14:05:44.002572Z",
     "iopub.status.idle": "2020-08-11T14:05:48.508091Z",
     "shell.execute_reply": "2020-08-11T14:05:48.507397Z"
    },
    "papermill": {
     "duration": 4.525754,
     "end_time": "2020-08-11T14:05:48.508227",
     "exception": false,
     "start_time": "2020-08-11T14:05:43.982473",
     "status": "completed"
    },
    "tags": []
   },
   "outputs": [],
   "source": [
    "GCS_PATH = [None]*FOLDS; GCS_PATH2 = [None]*FOLDS; GCS_PATH3 = [None]*FOLDS\n",
    "for i,k in enumerate(IMG_SIZES[:FOLDS]):\n",
    "    GCS_PATH[i] = KaggleDatasets().get_gcs_path('melanoma-%ix%i'%(k,k))\n",
    "    GCS_PATH2[i] = KaggleDatasets().get_gcs_path('isic2019-%ix%i'%(k,k))\n",
    "    GCS_PATH3[i] = KaggleDatasets().get_gcs_path('malignant-v2-%ix%i'%(k,k))\n",
    "files_train = np.sort(np.array(tf.io.gfile.glob(GCS_PATH[0] + '/train*.tfrec')))\n",
    "files_test  = np.sort(np.array(tf.io.gfile.glob(GCS_PATH[0] + '/test*.tfrec')))"
   ]
  },
  {
   "cell_type": "code",
   "execution_count": 6,
   "metadata": {
    "execution": {
     "iopub.execute_input": "2020-08-11T14:05:48.538271Z",
     "iopub.status.busy": "2020-08-11T14:05:48.537512Z",
     "iopub.status.idle": "2020-08-11T14:05:48.542211Z",
     "shell.execute_reply": "2020-08-11T14:05:48.541192Z"
    },
    "papermill": {
     "duration": 0.022211,
     "end_time": "2020-08-11T14:05:48.542349",
     "exception": false,
     "start_time": "2020-08-11T14:05:48.520138",
     "status": "completed"
    },
    "tags": []
   },
   "outputs": [
    {
     "name": "stdout",
     "output_type": "stream",
     "text": [
      "gs://kds-af04201ad3b23ab44fccef46bc878e212bf0799d4ab8511bb65cc598\n",
      "gs://kds-6a5a4659ad497a6521a7673de8db35f824381c90bfb0ba83ee7b72a7\n",
      "gs://kds-521ff7286dd816fd4882792049e635e4da081f8f1fde1f5d0d1f3af8\n"
     ]
    }
   ],
   "source": [
    "print(GCS_PATH[0])\n",
    "print(GCS_PATH2[0])\n",
    "print(GCS_PATH3[0])"
   ]
  },
  {
   "cell_type": "markdown",
   "execution_count": null,
   "metadata": {
    "papermill": {
     "duration": 0.011379,
     "end_time": "2020-08-11T14:05:48.565719",
     "exception": false,
     "start_time": "2020-08-11T14:05:48.554340",
     "status": "completed"
    },
    "tags": []
   },
   "source": [
    "# Step 2: Data Augmentation\n",
    "This notebook uses rotation, sheer, zoom, shift augmentation first shown in this notebook [here][1] and successfully used in Melanoma comp by AgentAuers [here][2]. This notebook also uses horizontal flip, hue, saturation, contrast, brightness augmentation similar to last years winner and also similar to AgentAuers' notebook.\n",
    "\n",
    "Additionally we can decide to use external data by changing the variables `INC2019` and `INC2018` in the preceeding code section. These variables respectively indicate whether to load last year 2019 data and/or year 2018 + 2017 data. These datasets are discussed [here][3]\n",
    "\n",
    "Consider experimenting with different augmenation and/or external data. The code to load TFRecords is taken from AgentAuers' notebook [here][2]. Thank you AgentAuers, this is great work.\n",
    "\n",
    "[1]: https://www.kaggle.com/cdeotte/rotation-augmentation-gpu-tpu-0-96\n",
    "[2]: https://www.kaggle.com/agentauers/incredible-tpus-finetune-effnetb0-b6-at-once\n",
    "[3]: https://www.kaggle.com/c/siim-isic-melanoma-classification/discussion/164910"
   ]
  },
  {
   "cell_type": "code",
   "execution_count": 7,
   "metadata": {
    "execution": {
     "iopub.execute_input": "2020-08-11T14:05:48.595932Z",
     "iopub.status.busy": "2020-08-11T14:05:48.594976Z",
     "iopub.status.idle": "2020-08-11T14:05:48.598040Z",
     "shell.execute_reply": "2020-08-11T14:05:48.597403Z"
    },
    "papermill": {
     "duration": 0.020498,
     "end_time": "2020-08-11T14:05:48.598176",
     "exception": false,
     "start_time": "2020-08-11T14:05:48.577678",
     "status": "completed"
    },
    "tags": []
   },
   "outputs": [],
   "source": [
    "ROT_ = 90.0\n",
    "SHR_ = 2.0\n",
    "HZOOM_ = 8.0\n",
    "WZOOM_ = 8.0\n",
    "HSHIFT_ = 8.0\n",
    "WSHIFT_ = 8.0"
   ]
  },
  {
   "cell_type": "code",
   "execution_count": 8,
   "metadata": {
    "execution": {
     "iopub.execute_input": "2020-08-11T14:05:48.651889Z",
     "iopub.status.busy": "2020-08-11T14:05:48.646829Z",
     "iopub.status.idle": "2020-08-11T14:05:48.654610Z",
     "shell.execute_reply": "2020-08-11T14:05:48.655231Z"
    },
    "papermill": {
     "duration": 0.045319,
     "end_time": "2020-08-11T14:05:48.655393",
     "exception": false,
     "start_time": "2020-08-11T14:05:48.610074",
     "status": "completed"
    },
    "tags": []
   },
   "outputs": [],
   "source": [
    "def get_mat(rotation, shear, height_zoom, width_zoom, height_shift, width_shift):\n",
    "    # returns 3x3 transformmatrix which transforms indicies\n",
    "        \n",
    "    # CONVERT DEGREES TO RADIANS\n",
    "    rotation = math.pi * rotation / 180.\n",
    "    shear    = math.pi * shear    / 180.\n",
    "\n",
    "    def get_3x3_mat(lst):\n",
    "        return tf.reshape(tf.concat([lst],axis=0), [3,3])\n",
    "    \n",
    "    # ROTATION MATRIX\n",
    "    c1   = tf.math.cos(rotation)\n",
    "    s1   = tf.math.sin(rotation)\n",
    "    one  = tf.constant([1],dtype='float32')\n",
    "    zero = tf.constant([0],dtype='float32')\n",
    "    \n",
    "    rotation_matrix = get_3x3_mat([c1,   s1,   zero, \n",
    "                                   -s1,  c1,   zero, \n",
    "                                   zero, zero, one])    \n",
    "    # SHEAR MATRIX\n",
    "    c2 = tf.math.cos(shear)\n",
    "    s2 = tf.math.sin(shear)    \n",
    "    \n",
    "    shear_matrix = get_3x3_mat([one,  s2,   zero, \n",
    "                                zero, c2,   zero, \n",
    "                                zero, zero, one])        \n",
    "    # ZOOM MATRIX\n",
    "    zoom_matrix = get_3x3_mat([one/height_zoom, zero,           zero, \n",
    "                               zero,            one/width_zoom, zero, \n",
    "                               zero,            zero,           one])    \n",
    "    # SHIFT MATRIX\n",
    "    shift_matrix = get_3x3_mat([one,  zero, height_shift, \n",
    "                                zero, one,  width_shift, \n",
    "                                zero, zero, one])\n",
    "    \n",
    "    return K.dot(K.dot(rotation_matrix, shear_matrix), \n",
    "                 K.dot(zoom_matrix,     shift_matrix))\n",
    "\n",
    "\n",
    "def transform(image, DIM=256):    \n",
    "    # input image - is one image of size [dim,dim,3] not a batch of [b,dim,dim,3]\n",
    "    # output - image randomly rotated, sheared, zoomed, and shifted\n",
    "    XDIM = DIM%2 #fix for size 331\n",
    "    \n",
    "    rot = ROT_ * tf.random.normal([1], dtype='float32')\n",
    "    shr = SHR_ * tf.random.normal([1], dtype='float32') \n",
    "    h_zoom = 1.0 + tf.random.normal([1], dtype='float32') / HZOOM_\n",
    "    w_zoom = 1.0 + tf.random.normal([1], dtype='float32') / WZOOM_\n",
    "    h_shift = HSHIFT_ * tf.random.normal([1], dtype='float32') \n",
    "    w_shift = WSHIFT_ * tf.random.normal([1], dtype='float32') \n",
    "\n",
    "    # GET TRANSFORMATION MATRIX\n",
    "    m = get_mat(rot,shr,h_zoom,w_zoom,h_shift,w_shift) \n",
    "\n",
    "    # LIST DESTINATION PIXEL INDICES\n",
    "    x   = tf.repeat(tf.range(DIM//2, -DIM//2,-1), DIM)\n",
    "    y   = tf.tile(tf.range(-DIM//2, DIM//2), [DIM])\n",
    "    z   = tf.ones([DIM*DIM], dtype='int32')\n",
    "    idx = tf.stack( [x,y,z] )\n",
    "    \n",
    "    # ROTATE DESTINATION PIXELS ONTO ORIGIN PIXELS\n",
    "    idx2 = K.dot(m, tf.cast(idx, dtype='float32'))\n",
    "    idx2 = K.cast(idx2, dtype='int32')\n",
    "    idx2 = K.clip(idx2, -DIM//2+XDIM+1, DIM//2)\n",
    "    \n",
    "    # FIND ORIGIN PIXEL VALUES           \n",
    "    idx3 = tf.stack([DIM//2-idx2[0,], DIM//2-1+idx2[1,]])\n",
    "    d    = tf.gather_nd(image, tf.transpose(idx3))\n",
    "        \n",
    "    return tf.reshape(d,[DIM, DIM,3])"
   ]
  },
  {
   "cell_type": "markdown",
   "execution_count": null,
   "metadata": {
    "papermill": {
     "duration": 0.011884,
     "end_time": "2020-08-11T14:05:48.679564",
     "exception": false,
     "start_time": "2020-08-11T14:05:48.667680",
     "status": "completed"
    },
    "tags": []
   },
   "source": [
    "## Cutout"
   ]
  },
  {
   "cell_type": "code",
   "execution_count": 9,
   "metadata": {
    "execution": {
     "iopub.execute_input": "2020-08-11T14:05:48.722692Z",
     "iopub.status.busy": "2020-08-11T14:05:48.721760Z",
     "iopub.status.idle": "2020-08-11T14:05:48.724921Z",
     "shell.execute_reply": "2020-08-11T14:05:48.724302Z"
    },
    "papermill": {
     "duration": 0.032341,
     "end_time": "2020-08-11T14:05:48.725049",
     "exception": false,
     "start_time": "2020-08-11T14:05:48.692708",
     "status": "completed"
    },
    "tags": []
   },
   "outputs": [],
   "source": [
    "def getCutout(image,PROBABILITY=1.0,DIM = 256):\n",
    "    \n",
    "    # DO CUTOUT WITH PROBABILITY DEFINED ABOVE\n",
    "    P = tf.cast( tf.random.uniform([],0,1)<=PROBABILITY, tf.int32)\n",
    "    \n",
    "    # CHOOSE RANDOM LOCATION\n",
    "    x = tf.cast( tf.random.uniform([],DIM/4,3*DIM/4),tf.int32)\n",
    "    y = tf.cast( tf.random.uniform([],DIM/4,3*DIM/4),tf.int32)\n",
    "    \n",
    "    b = tf.random.uniform([],0,1) # this is beta dist with alpha=1.0\n",
    "    \n",
    "    WIDTH = tf.cast( DIM/4 * tf.math.sqrt(1-b),tf.int32) * P\n",
    "    ya = tf.math.maximum(0,y-WIDTH//2)\n",
    "    yb = tf.math.minimum(DIM,y+WIDTH//2)\n",
    "    xa = tf.math.maximum(0,x-WIDTH//2)\n",
    "    xb = tf.math.minimum(DIM,x+WIDTH//2)\n",
    "    \n",
    "    # MAKE CUTOUT IMAGE\n",
    "#     image[ya:yb,xa:xb,:] = 0.0\n",
    "    \n",
    "    one = image[ya:yb,0:xa,:]\n",
    "    two = tf.zeros([yb-ya,xb-xa,3])\n",
    "#     two = tf.random.uniform([yb-ya,xb-xa,3],0,0.9)\n",
    "    three = image[ya:yb,xb:DIM,:]\n",
    "    middle = tf.concat([one,two,three],axis=1)\n",
    "    result_image = tf.concat([image[0:ya,:,:],middle,image[yb:DIM,:,:]],axis=0)\n",
    "    \n",
    "    return result_image"
   ]
  },
  {
   "cell_type": "markdown",
   "execution_count": null,
   "metadata": {
    "papermill": {
     "duration": 0.011655,
     "end_time": "2020-08-11T14:05:48.748757",
     "exception": false,
     "start_time": "2020-08-11T14:05:48.737102",
     "status": "completed"
    },
    "tags": []
   },
   "source": [
    "## Coarse-droapout"
   ]
  },
  {
   "cell_type": "code",
   "execution_count": 10,
   "metadata": {
    "execution": {
     "iopub.execute_input": "2020-08-11T14:05:48.790961Z",
     "iopub.status.busy": "2020-08-11T14:05:48.790119Z",
     "iopub.status.idle": "2020-08-11T14:05:48.793540Z",
     "shell.execute_reply": "2020-08-11T14:05:48.792892Z"
    },
    "papermill": {
     "duration": 0.033043,
     "end_time": "2020-08-11T14:05:48.793673",
     "exception": false,
     "start_time": "2020-08-11T14:05:48.760630",
     "status": "completed"
    },
    "tags": []
   },
   "outputs": [],
   "source": [
    "def dropout(image, DIM=256, PROBABILITY = 0.75, CT = 8, SZ = 0.2):\n",
    "    # input image - is one image of size [dim,dim,3] not a batch of [b,dim,dim,3]\n",
    "    # output - image with CT squares of side size SZ*DIM removed\n",
    "    \n",
    "    # DO DROPOUT WITH PROBABILITY DEFINED ABOVE\n",
    "    P = tf.cast( tf.random.uniform([],0,1)<PROBABILITY, tf.int32)\n",
    "    if (P==0)|(CT==0)|(SZ==0): return image\n",
    "    \n",
    "    for k in range(CT):\n",
    "        # CHOOSE RANDOM LOCATION\n",
    "        x = tf.cast( tf.random.uniform([],0,DIM),tf.int32)\n",
    "        y = tf.cast( tf.random.uniform([],0,DIM),tf.int32)\n",
    "        # COMPUTE SQUARE \n",
    "        WIDTH = tf.cast( SZ*DIM,tf.int32) * P\n",
    "        ya = tf.math.maximum(0,y-WIDTH//2)\n",
    "        yb = tf.math.minimum(DIM,y+WIDTH//2)\n",
    "        xa = tf.math.maximum(0,x-WIDTH//2)\n",
    "        xb = tf.math.minimum(DIM,x+WIDTH//2)\n",
    "        # DROPOUT IMAGE\n",
    "        one = image[ya:yb,0:xa,:]\n",
    "        two = tf.zeros([yb-ya,xb-xa,3]) \n",
    "        three = image[ya:yb,xb:DIM,:]\n",
    "        middle = tf.concat([one,two,three],axis=1)\n",
    "        image = tf.concat([image[0:ya,:,:],middle,image[yb:DIM,:,:]],axis=0)\n",
    "            \n",
    "    # RESHAPE HACK SO TPU COMPILER KNOWS SHAPE OF OUTPUT TENSOR \n",
    "    image = tf.reshape(image,[DIM,DIM,3])\n",
    "    return image"
   ]
  },
  {
   "cell_type": "markdown",
   "execution_count": null,
   "metadata": {
    "papermill": {
     "duration": 0.011627,
     "end_time": "2020-08-11T14:05:48.817440",
     "exception": false,
     "start_time": "2020-08-11T14:05:48.805813",
     "status": "completed"
    },
    "tags": []
   },
   "source": [
    "## Read Tfrecords"
   ]
  },
  {
   "cell_type": "code",
   "execution_count": 11,
   "metadata": {
    "execution": {
     "iopub.execute_input": "2020-08-11T14:05:48.866937Z",
     "iopub.status.busy": "2020-08-11T14:05:48.866137Z",
     "iopub.status.idle": "2020-08-11T14:05:48.869822Z",
     "shell.execute_reply": "2020-08-11T14:05:48.869089Z"
    },
    "papermill": {
     "duration": 0.040477,
     "end_time": "2020-08-11T14:05:48.869953",
     "exception": false,
     "start_time": "2020-08-11T14:05:48.829476",
     "status": "completed"
    },
    "tags": []
   },
   "outputs": [],
   "source": [
    "def read_labeled_tfrecord(example):\n",
    "    tfrec_format = {\n",
    "        'image'                        : tf.io.FixedLenFeature([], tf.string),\n",
    "        'image_name'                   : tf.io.FixedLenFeature([], tf.string),\n",
    "        'patient_id'                   : tf.io.FixedLenFeature([], tf.int64),\n",
    "        'sex'                          : tf.io.FixedLenFeature([], tf.int64),\n",
    "        'age_approx'                   : tf.io.FixedLenFeature([], tf.int64),\n",
    "        'anatom_site_general_challenge': tf.io.FixedLenFeature([], tf.int64),\n",
    "        'diagnosis'                    : tf.io.FixedLenFeature([], tf.int64),\n",
    "        'target'                       : tf.io.FixedLenFeature([], tf.int64)\n",
    "    }           \n",
    "    example = tf.io.parse_single_example(example, tfrec_format)\n",
    "    return example['image'], example['target']\n",
    "\n",
    "\n",
    "def read_unlabeled_tfrecord(example, return_image_name=True):\n",
    "    tfrec_format = {\n",
    "        'image'                        : tf.io.FixedLenFeature([], tf.string),\n",
    "        'image_name'                   : tf.io.FixedLenFeature([], tf.string),\n",
    "    }\n",
    "    example = tf.io.parse_single_example(example, tfrec_format)\n",
    "    return example['image'], example['image_name'] if return_image_name else 0\n",
    "\n",
    " \n",
    "def prepare_image(img, augment=True, dim=256, droprate=0, dropct=0, dropsize=0):    \n",
    "    img = tf.image.decode_jpeg(img, channels=3)\n",
    "    img = tf.cast(img, tf.float32) / 255.0\n",
    "    \n",
    "    if augment:\n",
    "        img = transform(img,DIM=dim)\n",
    "        \n",
    "        if (droprate!=0)&(dropct!=0)&(dropsize!=0): \n",
    "            img = dropout(img, DIM=dim, PROBABILITY=droprate, CT=dropct, SZ=dropsize)\n",
    "            \n",
    "        img = tf.image.random_flip_left_right(img)\n",
    "        img =  tf.image.random_flip_up_down(img)\n",
    "        \n",
    "        img = tf.image.random_hue(img, 0.01)\n",
    "        img = tf.image.random_saturation(img, 0.7, 1.3)\n",
    "        img = tf.image.random_contrast(img, 0.8, 1.2)\n",
    "        img = tf.image.random_brightness(img, 0.1)\n",
    "        \n",
    "        if CUTOUT:\n",
    "            img = getCutout(img,PROBABILITY=0.75,DIM = dim)\n",
    "            \n",
    "    img = tf.reshape(img, [dim,dim, 3])\n",
    "            \n",
    "    return img\n",
    "\n",
    "def count_data_items(filenames):\n",
    "    n = [int(re.compile(r\"-([0-9]*)\\.\").search(filename).group(1)) \n",
    "         for filename in filenames]\n",
    "    return np.sum(n)"
   ]
  },
  {
   "cell_type": "code",
   "execution_count": 12,
   "metadata": {
    "execution": {
     "iopub.execute_input": "2020-08-11T14:05:48.908978Z",
     "iopub.status.busy": "2020-08-11T14:05:48.908215Z",
     "iopub.status.idle": "2020-08-11T14:05:48.911973Z",
     "shell.execute_reply": "2020-08-11T14:05:48.911309Z"
    },
    "papermill": {
     "duration": 0.029952,
     "end_time": "2020-08-11T14:05:48.912099",
     "exception": false,
     "start_time": "2020-08-11T14:05:48.882147",
     "status": "completed"
    },
    "tags": []
   },
   "outputs": [],
   "source": [
    "def get_dataset(files, augment = False, shuffle = False, repeat = False, \n",
    "                labeled=True, return_image_names=True, batch_size=16, dim=256,\n",
    "                droprate=0, dropct=0, dropsize=0):\n",
    "    \n",
    "    ds = tf.data.TFRecordDataset(files, num_parallel_reads=AUTO)\n",
    "    ds = ds.cache()\n",
    "    \n",
    "    if repeat:\n",
    "        ds = ds.repeat()\n",
    "    \n",
    "    if shuffle: \n",
    "        ds = ds.shuffle(1024*2) #if too large causes OOM in GPU CPU\n",
    "        opt = tf.data.Options()\n",
    "        opt.experimental_deterministic = False\n",
    "        ds = ds.with_options(opt)\n",
    "        \n",
    "    if labeled: \n",
    "        ds = ds.map(read_labeled_tfrecord, num_parallel_calls=AUTO)\n",
    "    else:\n",
    "        ds = ds.map(lambda example: read_unlabeled_tfrecord(example, return_image_names), \n",
    "                    num_parallel_calls=AUTO)      \n",
    "    \n",
    "    ds = ds.map(lambda img, imgname_or_label: (\n",
    "                prepare_image(img, augment=augment, dim=dim, \n",
    "                              droprate=droprate, dropct=dropct, dropsize=dropsize), \n",
    "                imgname_or_label), \n",
    "                num_parallel_calls=AUTO)\n",
    "    \n",
    "    ds = ds.batch(batch_size * REPLICAS)\n",
    "    ds = ds.prefetch(AUTO)\n",
    "    return ds"
   ]
  },
  {
   "cell_type": "code",
   "execution_count": 13,
   "metadata": {
    "execution": {
     "iopub.execute_input": "2020-08-11T14:05:48.942637Z",
     "iopub.status.busy": "2020-08-11T14:05:48.941608Z",
     "iopub.status.idle": "2020-08-11T14:05:48.945121Z",
     "shell.execute_reply": "2020-08-11T14:05:48.944389Z"
    },
    "papermill": {
     "duration": 0.020976,
     "end_time": "2020-08-11T14:05:48.945244",
     "exception": false,
     "start_time": "2020-08-11T14:05:48.924268",
     "status": "completed"
    },
    "tags": []
   },
   "outputs": [],
   "source": [
    "# def binary_focal_loss(gamma=1.0, alpha=0.8):\n",
    "#     \"\"\"\n",
    "#     Binary form of focal loss.\n",
    "#       FL(p_t) = -alpha * (1 - p_t)**gamma * log(p_t)\n",
    "#       where p = sigmoid(x), p_t = p or 1 - p depending on if the label is 1 or 0, respectively.\n",
    "#     References:\n",
    "#         https://arxiv.org/pdf/1708.02002.pdf\n",
    "#     Usage:\n",
    "#      model.compile(loss=[binary_focal_loss(alpha=.25, gamma=2)], metrics=[\"accuracy\"], optimizer=adam)\n",
    "#     \"\"\"\n",
    "#     def binary_focal_loss_fixed(y_true, y_pred):\n",
    "#         \"\"\"\n",
    "#         :param y_true: A tensor of the same shape as `y_pred`\n",
    "#         :param y_pred:  A tensor resulting from a sigmoid\n",
    "#         :return: Output tensor.\n",
    "#         \"\"\"\n",
    "#         pt_1 = tf.where(tf.equal(y_true, 1), y_pred, tf.ones_like(y_pred))\n",
    "#         pt_0 = tf.where(tf.equal(y_true, 0), y_pred, tf.zeros_like(y_pred))\n",
    "\n",
    "#         epsilon = K.epsilon()\n",
    "#         # clip to prevent NaN's and Inf's\n",
    "#         pt_1 = K.clip(pt_1, epsilon, 1. - epsilon)\n",
    "#         pt_0 = K.clip(pt_0, epsilon, 1. - epsilon)\n",
    "\n",
    "#         return -K.mean(alpha * K.pow(1. - pt_1, gamma) * K.log(pt_1)) \\\n",
    "#                -K.mean((1 - alpha) * K.pow(pt_0, gamma) * K.log(1. - pt_0))\n",
    "\n",
    "#     return binary_focal_loss_fixed"
   ]
  },
  {
   "cell_type": "markdown",
   "execution_count": null,
   "metadata": {
    "papermill": {
     "duration": 0.011868,
     "end_time": "2020-08-11T14:05:48.969684",
     "exception": false,
     "start_time": "2020-08-11T14:05:48.957816",
     "status": "completed"
    },
    "tags": []
   },
   "source": [
    "# Step 3: Build Model\n",
    "This is a common model architecute. Consider experimenting with different backbones, custom heads, losses, and optimizers. Also consider inputing meta features into your CNN."
   ]
  },
  {
   "cell_type": "code",
   "execution_count": 14,
   "metadata": {
    "execution": {
     "iopub.execute_input": "2020-08-11T14:05:49.004011Z",
     "iopub.status.busy": "2020-08-11T14:05:49.003246Z",
     "iopub.status.idle": "2020-08-11T14:05:49.011972Z",
     "shell.execute_reply": "2020-08-11T14:05:49.011313Z"
    },
    "papermill": {
     "duration": 0.030173,
     "end_time": "2020-08-11T14:05:49.012095",
     "exception": false,
     "start_time": "2020-08-11T14:05:48.981922",
     "status": "completed"
    },
    "tags": []
   },
   "outputs": [],
   "source": [
    "EFNS = [efn.EfficientNetB0, efn.EfficientNetB1, efn.EfficientNetB2, efn.EfficientNetB3, \n",
    "        efn.EfficientNetB4, efn.EfficientNetB5, efn.EfficientNetB6, efn.EfficientNetB7]\n",
    "\n",
    "def build_model(dim=128, ef=0):\n",
    "    inp = tf.keras.layers.Input(shape=(dim,dim,3))\n",
    "    base = EFNS[ef](input_shape=(dim,dim,3),weights='imagenet',include_top=False)\n",
    "    x = base(inp)\n",
    "    x = tf.keras.layers.GlobalAveragePooling2D()(x)\n",
    "    x = tf.keras.layers.Dense(1,activation='sigmoid')(x)\n",
    "    model = tf.keras.Model(inputs=inp,outputs=x)\n",
    "    opt = tf.keras.optimizers.Adam(learning_rate=0.0001)\n",
    "    \n",
    "    if BCE:\n",
    "        loss = tf.keras.losses.BinaryCrossentropy(label_smoothing=0.05) \n",
    "    else: \n",
    "#         loss = [binary_focal_loss()]\n",
    "        loss = tfa.losses.SigmoidFocalCrossEntropy(gamma=1.0,alpha=0.8)\n",
    "        \n",
    "    model.compile(optimizer=opt,loss=loss,metrics=['AUC'])\n",
    "    return model"
   ]
  },
  {
   "cell_type": "markdown",
   "execution_count": null,
   "metadata": {
    "papermill": {
     "duration": 0.011971,
     "end_time": "2020-08-11T14:05:49.036528",
     "exception": false,
     "start_time": "2020-08-11T14:05:49.024557",
     "status": "completed"
    },
    "tags": []
   },
   "source": [
    "# Step 4: Train Schedule\n",
    "This is a common train schedule for transfer learning. The learning rate starts near zero, then increases to a maximum, then decays over time. Consider changing the schedule and/or learning rates. Note how the learning rate max is larger with larger batches sizes. This is a good practice to follow."
   ]
  },
  {
   "cell_type": "markdown",
   "execution_count": null,
   "metadata": {
    "papermill": {
     "duration": 0.011988,
     "end_time": "2020-08-11T14:05:49.060969",
     "exception": false,
     "start_time": "2020-08-11T14:05:49.048981",
     "status": "completed"
    },
    "tags": []
   },
   "source": [
    "# Rampup decy lr Schedule"
   ]
  },
  {
   "cell_type": "code",
   "execution_count": 15,
   "metadata": {
    "execution": {
     "iopub.execute_input": "2020-08-11T14:05:49.097420Z",
     "iopub.status.busy": "2020-08-11T14:05:49.096367Z",
     "iopub.status.idle": "2020-08-11T14:05:49.099372Z",
     "shell.execute_reply": "2020-08-11T14:05:49.099943Z"
    },
    "papermill": {
     "duration": 0.026511,
     "end_time": "2020-08-11T14:05:49.100113",
     "exception": false,
     "start_time": "2020-08-11T14:05:49.073602",
     "status": "completed"
    },
    "tags": []
   },
   "outputs": [],
   "source": [
    "def get_lr_callback(batch_size=8):\n",
    "    lr_start   = 0.000005\n",
    "    lr_max     = 0.00000125 * REPLICAS * batch_size\n",
    "    lr_min     = 0.000001\n",
    "    lr_ramp_ep = 5\n",
    "    lr_sus_ep  = 2\n",
    "    lr_decay   = 0.8\n",
    "   \n",
    "    def lrfn(epoch):\n",
    "        if epoch < lr_ramp_ep:\n",
    "            lr = (lr_max - lr_start) / lr_ramp_ep * epoch + lr_start\n",
    "            \n",
    "        elif epoch < lr_ramp_ep + lr_sus_ep:\n",
    "            lr = lr_max\n",
    "            \n",
    "        else:\n",
    "            lr = (lr_max - lr_min) * lr_decay**(epoch - lr_ramp_ep - lr_sus_ep) + lr_min\n",
    "            \n",
    "        return lr\n",
    "\n",
    "    lr_callback = tf.keras.callbacks.LearningRateScheduler(lrfn, verbose=False)\n",
    "    return lr_callback"
   ]
  },
  {
   "cell_type": "markdown",
   "execution_count": null,
   "metadata": {
    "papermill": {
     "duration": 0.012017,
     "end_time": "2020-08-11T14:05:49.124833",
     "exception": false,
     "start_time": "2020-08-11T14:05:49.112816",
     "status": "completed"
    },
    "tags": []
   },
   "source": [
    "## Cyclic Learning Rate"
   ]
  },
  {
   "cell_type": "code",
   "execution_count": 16,
   "metadata": {
    "execution": {
     "iopub.execute_input": "2020-08-11T14:05:49.161956Z",
     "iopub.status.busy": "2020-08-11T14:05:49.160891Z",
     "iopub.status.idle": "2020-08-11T14:05:49.164518Z",
     "shell.execute_reply": "2020-08-11T14:05:49.163871Z"
    },
    "papermill": {
     "duration": 0.026884,
     "end_time": "2020-08-11T14:05:49.164653",
     "exception": false,
     "start_time": "2020-08-11T14:05:49.137769",
     "status": "completed"
    },
    "tags": []
   },
   "outputs": [],
   "source": [
    "def get_cosine_schedule_with_warmup(lr,num_warmup_steps, num_training_steps, num_cycles=0.5):\n",
    "    \"\"\"\n",
    "    Modified version of the get_cosine_schedule_with_warmup from huggingface.\n",
    "    (https://huggingface.co/transformers/_modules/transformers/optimization.html#get_cosine_schedule_with_warmup)\n",
    "\n",
    "    Create a schedule with a learning rate that decreases following the\n",
    "    values of the cosine function between 0 and `pi * cycles` after a warmup\n",
    "    period during which it increases linearly between 0 and 1.\n",
    "    \"\"\"\n",
    "\n",
    "    def lrfn(epoch):\n",
    "        if epoch < num_warmup_steps:\n",
    "            return (float(epoch) / float(max(1, num_warmup_steps))) * lr\n",
    "        progress = float(epoch - num_warmup_steps) / float(max(1, num_training_steps - num_warmup_steps))\n",
    "        return max(0.0, 0.5 * (1.0 + math.cos(math.pi * float(num_cycles) * 2.0 * progress))) * lr\n",
    "\n",
    "    return tf.keras.callbacks.LearningRateScheduler(lrfn, verbose=True)\n",
    "\n",
    "LR = 0.0001\n",
    "WARMUP = 6"
   ]
  },
  {
   "cell_type": "markdown",
   "execution_count": null,
   "metadata": {
    "papermill": {
     "duration": 0.012323,
     "end_time": "2020-08-11T14:05:49.189667",
     "exception": false,
     "start_time": "2020-08-11T14:05:49.177344",
     "status": "completed"
    },
    "tags": []
   },
   "source": [
    "## GET_Rank"
   ]
  },
  {
   "cell_type": "code",
   "execution_count": 17,
   "metadata": {
    "execution": {
     "iopub.execute_input": "2020-08-11T14:05:49.221997Z",
     "iopub.status.busy": "2020-08-11T14:05:49.221244Z",
     "iopub.status.idle": "2020-08-11T14:05:49.224794Z",
     "shell.execute_reply": "2020-08-11T14:05:49.224062Z"
    },
    "papermill": {
     "duration": 0.022855,
     "end_time": "2020-08-11T14:05:49.224914",
     "exception": false,
     "start_time": "2020-08-11T14:05:49.202059",
     "status": "completed"
    },
    "tags": []
   },
   "outputs": [],
   "source": [
    "from scipy.stats import rankdata\n",
    "def getRanks(x):\n",
    "    y = x\n",
    "    for i,col in enumerate(x.T):\n",
    "        y.T[i] = rankdata(col)/rankdata(col).max()\n",
    "    return y"
   ]
  },
  {
   "cell_type": "markdown",
   "execution_count": null,
   "metadata": {
    "papermill": {
     "duration": 0.01218,
     "end_time": "2020-08-11T14:05:49.249935",
     "exception": false,
     "start_time": "2020-08-11T14:05:49.237755",
     "status": "completed"
    },
    "tags": []
   },
   "source": [
    "## Train Model\n",
    "Our model will be trained for the number of FOLDS and EPOCHS you chose in the configuration above. Each fold the model with lowest validation loss will be saved and used to predict OOF and test. Adjust the variables `VERBOSE` and `DISPLOY_PLOT` below to determine what output you want displayed. The variable `VERBOSE=1 or 2` will display the training and validation loss and auc for each epoch as text. The variable `DISPLAY_PLOT` shows this information as a plot. "
   ]
  },
  {
   "cell_type": "code",
   "execution_count": 18,
   "metadata": {
    "execution": {
     "iopub.execute_input": "2020-08-11T14:05:49.338540Z",
     "iopub.status.busy": "2020-08-11T14:05:49.300528Z",
     "iopub.status.idle": "2020-08-11T16:22:32.342074Z",
     "shell.execute_reply": "2020-08-11T16:22:32.342669Z"
    },
    "papermill": {
     "duration": 8203.080531,
     "end_time": "2020-08-11T16:22:32.342869",
     "exception": false,
     "start_time": "2020-08-11T14:05:49.262338",
     "status": "completed"
    },
    "tags": []
   },
   "outputs": [
    {
     "name": "stdout",
     "output_type": "stream",
     "text": [
      "#########################\n",
      "#### FOLD 1\n",
      "#### Image Size 384 with EfficientNet B5 and batch_size 32 loss= Focal Loss\n",
      "#### Using 2018+2017 external data\n",
      "#### Upsample MALIG-3 data (2019 comp)\n",
      "#########################\n",
      "Downloading data from https://github.com/Callidior/keras-applications/releases/download/efficientnet/efficientnet-b5_weights_tf_dim_ordering_tf_kernels_autoaugment_notop.h5\n",
      "115515392/115515256 [==============================] - 4s 0us/step\n",
      "Training...\n",
      "Epoch 1/20\n",
      "121/121 [==============================] - 110s 907ms/step - auc: 0.6241 - loss: 0.0758 - val_auc: 0.5475 - val_loss: 0.0531 - lr: 5.0000e-06\n",
      "Epoch 2/20\n",
      "121/121 [==============================] - 81s 673ms/step - auc: 0.8592 - loss: 0.0479 - val_auc: 0.8307 - val_loss: 0.0216 - lr: 6.8000e-05\n",
      "Epoch 3/20\n",
      "121/121 [==============================] - 81s 673ms/step - auc: 0.9088 - loss: 0.0389 - val_auc: 0.8772 - val_loss: 0.0215 - lr: 1.3100e-04\n",
      "Epoch 4/20\n",
      "121/121 [==============================] - 81s 672ms/step - auc: 0.9228 - loss: 0.0362 - val_auc: 0.8871 - val_loss: 0.0197 - lr: 1.9400e-04\n",
      "Epoch 5/20\n",
      "121/121 [==============================] - 78s 648ms/step - auc: 0.9297 - loss: 0.0346 - val_auc: 0.9003 - val_loss: 0.0204 - lr: 2.5700e-04\n",
      "Epoch 6/20\n",
      "121/121 [==============================] - 82s 676ms/step - auc: 0.9403 - loss: 0.0322 - val_auc: 0.9082 - val_loss: 0.0186 - lr: 3.2000e-04\n",
      "Epoch 7/20\n",
      "121/121 [==============================] - 82s 676ms/step - auc: 0.9425 - loss: 0.0318 - val_auc: 0.9115 - val_loss: 0.0182 - lr: 3.2000e-04\n",
      "Epoch 8/20\n",
      "121/121 [==============================] - 78s 648ms/step - auc: 0.9517 - loss: 0.0289 - val_auc: 0.9094 - val_loss: 0.0178 - lr: 3.2000e-04\n",
      "Epoch 9/20\n",
      "121/121 [==============================] - 78s 648ms/step - auc: 0.9572 - loss: 0.0274 - val_auc: 0.9130 - val_loss: 0.0188 - lr: 2.5620e-04\n",
      "Epoch 10/20\n",
      "121/121 [==============================] - 82s 679ms/step - auc: 0.9625 - loss: 0.0258 - val_auc: 0.9173 - val_loss: 0.0171 - lr: 2.0516e-04\n",
      "Epoch 11/20\n",
      "121/121 [==============================] - 77s 633ms/step - auc: 0.9692 - loss: 0.0235 - val_auc: 0.9157 - val_loss: 0.0173 - lr: 1.6433e-04\n",
      "Epoch 12/20\n",
      "121/121 [==============================] - 80s 661ms/step - auc: 0.9757 - loss: 0.0211 - val_auc: 0.9198 - val_loss: 0.0185 - lr: 1.3166e-04\n",
      "Epoch 13/20\n",
      "121/121 [==============================] - 77s 635ms/step - auc: 0.9764 - loss: 0.0207 - val_auc: 0.9193 - val_loss: 0.0173 - lr: 1.0553e-04\n",
      "Epoch 14/20\n",
      "121/121 [==============================] - 77s 637ms/step - auc: 0.9815 - loss: 0.0186 - val_auc: 0.9190 - val_loss: 0.0180 - lr: 8.4624e-05\n",
      "Epoch 15/20\n",
      "121/121 [==============================] - 80s 665ms/step - auc: 0.9829 - loss: 0.0178 - val_auc: 0.9227 - val_loss: 0.0188 - lr: 6.7899e-05\n",
      "Epoch 16/20\n",
      "121/121 [==============================] - 80s 663ms/step - auc: 0.9854 - loss: 0.0164 - val_auc: 0.9269 - val_loss: 0.0185 - lr: 5.4519e-05\n",
      "Epoch 17/20\n",
      "121/121 [==============================] - 77s 635ms/step - auc: 0.9861 - loss: 0.0161 - val_auc: 0.9258 - val_loss: 0.0185 - lr: 4.3815e-05\n",
      "Epoch 18/20\n",
      "121/121 [==============================] - 77s 640ms/step - auc: 0.9867 - loss: 0.0157 - val_auc: 0.9216 - val_loss: 0.0203 - lr: 3.5252e-05\n",
      "Epoch 19/20\n",
      "121/121 [==============================] - 77s 634ms/step - auc: 0.9877 - loss: 0.0150 - val_auc: 0.9190 - val_loss: 0.0203 - lr: 2.8402e-05\n",
      "Epoch 20/20\n",
      "121/121 [==============================] - 77s 633ms/step - auc: 0.9889 - loss: 0.0145 - val_auc: 0.9203 - val_loss: 0.0202 - lr: 2.2922e-05\n",
      "\u001b[32m Loading best model...MAX VAL_AUC\n",
      "Predicting OOF with TTA...MAX VAL_AUC\n",
      "532/531 [==============================] - 181s 341ms/step\n",
      "Predicting Test with TTA...MAX VAL_AUC \u001b[0m\n",
      "537/536 [==============================] - 188s 350ms/step\n",
      "\u001b[36m Loading best model loss-fold-0.h5...MIN VAL_LOSS\n",
      "Predicting OOF with TTA...MIN VAL_LOSS\n",
      "532/531 [==============================] - 187s 352ms/step\n",
      "Predicting Test with TTA...MIN VAL_LOSS \u001b[0m\n",
      "537/536 [==============================] - 185s 344ms/step\n",
      "#### FOLD 1 OOF AUC without TTA = 0.927, with TTA = 0.923 , with TTA_rank = 0.923\n"
     ]
    },
    {
     "data": {
      "image/png": "[encoded data removed]",
      "text/plain": [
       "<Figure size 1080x360 with 2 Axes>"
      ]
     },
     "metadata": {
      "needs_background": "light"
     },
     "output_type": "display_data"
    },
    {
     "name": "stdout",
     "output_type": "stream",
     "text": [
      "#########################\n",
      "#### FOLD 2\n",
      "#### Image Size 384 with EfficientNet B5 and batch_size 32 loss= Focal Loss\n",
      "#### Using 2018+2017 external data\n",
      "#### Upsample MALIG-3 data (2019 comp)\n",
      "#########################\n",
      "Training...\n",
      "Epoch 1/20\n",
      "121/121 [==============================] - 110s 909ms/step - auc: 0.6782 - loss: 0.0750 - val_auc: 0.6169 - val_loss: 0.0507 - lr: 5.0000e-06\n",
      "Epoch 2/20\n",
      "121/121 [==============================] - 84s 690ms/step - auc: 0.8441 - loss: 0.0502 - val_auc: 0.8472 - val_loss: 0.0206 - lr: 6.8000e-05\n",
      "Epoch 3/20\n",
      "121/121 [==============================] - 84s 691ms/step - auc: 0.9056 - loss: 0.0401 - val_auc: 0.8960 - val_loss: 0.0180 - lr: 1.3100e-04\n",
      "Epoch 4/20\n",
      "121/121 [==============================] - 84s 690ms/step - auc: 0.9193 - loss: 0.0372 - val_auc: 0.9153 - val_loss: 0.0166 - lr: 1.9400e-04\n",
      "Epoch 5/20\n",
      "121/121 [==============================] - 85s 699ms/step - auc: 0.9277 - loss: 0.0351 - val_auc: 0.9175 - val_loss: 0.0166 - lr: 2.5700e-04\n",
      "Epoch 6/20\n",
      "121/121 [==============================] - 80s 662ms/step - auc: 0.9367 - loss: 0.0335 - val_auc: 0.9232 - val_loss: 0.0171 - lr: 3.2000e-04\n",
      "Epoch 7/20\n",
      "121/121 [==============================] - 77s 636ms/step - auc: 0.9440 - loss: 0.0314 - val_auc: 0.9202 - val_loss: 0.0183 - lr: 3.2000e-04\n",
      "Epoch 8/20\n",
      "121/121 [==============================] - 80s 664ms/step - auc: 0.9455 - loss: 0.0312 - val_auc: 0.9224 - val_loss: 0.0163 - lr: 3.2000e-04\n",
      "Epoch 9/20\n",
      "121/121 [==============================] - 80s 663ms/step - auc: 0.9499 - loss: 0.0302 - val_auc: 0.9246 - val_loss: 0.0167 - lr: 2.5620e-04\n",
      "Epoch 10/20\n",
      "121/121 [==============================] - 77s 635ms/step - auc: 0.9586 - loss: 0.0277 - val_auc: 0.9245 - val_loss: 0.0164 - lr: 2.0516e-04\n",
      "Epoch 11/20\n",
      "121/121 [==============================] - 84s 698ms/step - auc: 0.9622 - loss: 0.0264 - val_auc: 0.9291 - val_loss: 0.0162 - lr: 1.6433e-04\n",
      "Epoch 12/20\n",
      "121/121 [==============================] - 77s 635ms/step - auc: 0.9658 - loss: 0.0251 - val_auc: 0.9241 - val_loss: 0.0197 - lr: 1.3166e-04\n",
      "Epoch 13/20\n",
      "121/121 [==============================] - 80s 662ms/step - auc: 0.9684 - loss: 0.0242 - val_auc: 0.9330 - val_loss: 0.0166 - lr: 1.0553e-04\n",
      "Epoch 14/20\n",
      "121/121 [==============================] - 77s 636ms/step - auc: 0.9727 - loss: 0.0225 - val_auc: 0.9287 - val_loss: 0.0175 - lr: 8.4624e-05\n",
      "Epoch 15/20\n",
      "121/121 [==============================] - 80s 664ms/step - auc: 0.9741 - loss: 0.0219 - val_auc: 0.9334 - val_loss: 0.0162 - lr: 6.7899e-05\n",
      "Epoch 16/20\n",
      "121/121 [==============================] - 77s 636ms/step - auc: 0.9775 - loss: 0.0204 - val_auc: 0.9315 - val_loss: 0.0162 - lr: 5.4519e-05\n",
      "Epoch 17/20\n",
      "121/121 [==============================] - 80s 665ms/step - auc: 0.9778 - loss: 0.0203 - val_auc: 0.9338 - val_loss: 0.0165 - lr: 4.3815e-05\n",
      "Epoch 18/20\n",
      "121/121 [==============================] - 77s 638ms/step - auc: 0.9835 - loss: 0.0176 - val_auc: 0.9291 - val_loss: 0.0176 - lr: 3.5252e-05\n",
      "Epoch 19/20\n",
      "121/121 [==============================] - 77s 636ms/step - auc: 0.9848 - loss: 0.0170 - val_auc: 0.9287 - val_loss: 0.0177 - lr: 2.8402e-05\n",
      "Epoch 20/20\n",
      "121/121 [==============================] - 77s 637ms/step - auc: 0.9843 - loss: 0.0172 - val_auc: 0.9287 - val_loss: 0.0176 - lr: 2.2922e-05\n",
      "\u001b[32m Loading best model...MAX VAL_AUC\n",
      "Predicting OOF with TTA...MAX VAL_AUC\n",
      "533/532 [==============================] - 181s 340ms/step\n",
      "Predicting Test with TTA...MAX VAL_AUC \u001b[0m\n",
      "537/536 [==============================] - 183s 340ms/step\n",
      "\u001b[36m Loading best model loss-fold-1.h5...MIN VAL_LOSS\n",
      "Predicting OOF with TTA...MIN VAL_LOSS\n",
      "533/532 [==============================] - 182s 342ms/step\n",
      "Predicting Test with TTA...MIN VAL_LOSS \u001b[0m\n",
      "537/536 [==============================] - 183s 340ms/step\n",
      "#### FOLD 2 OOF AUC without TTA = 0.934, with TTA = 0.938 , with TTA_rank = 0.938\n"
     ]
    },
    {
     "data": {
      "image/png": "[encoded data removed]",
      "text/plain": [
       "<Figure size 1080x360 with 2 Axes>"
      ]
     },
     "metadata": {
      "needs_background": "light"
     },
     "output_type": "display_data"
    },
    {
     "name": "stdout",
     "output_type": "stream",
     "text": [
      "#########################\n",
      "#### FOLD 3\n",
      "#### Image Size 384 with EfficientNet B5 and batch_size 32 loss= Focal Loss\n",
      "#### Using 2018+2017 external data\n",
      "#### Upsample MALIG-3 data (2019 comp)\n",
      "#########################\n",
      "Training...\n",
      "Epoch 1/20\n",
      "121/121 [==============================] - 111s 914ms/step - auc: 0.6818 - loss: 0.0754 - val_auc: 0.6168 - val_loss: 0.0590 - lr: 5.0000e-06\n",
      "Epoch 2/20\n",
      "121/121 [==============================] - 84s 690ms/step - auc: 0.8587 - loss: 0.0481 - val_auc: 0.8499 - val_loss: 0.0203 - lr: 6.8000e-05\n",
      "Epoch 3/20\n",
      "121/121 [==============================] - 84s 693ms/step - auc: 0.9051 - loss: 0.0394 - val_auc: 0.8981 - val_loss: 0.0186 - lr: 1.3100e-04\n",
      "Epoch 4/20\n",
      "121/121 [==============================] - 84s 695ms/step - auc: 0.9199 - loss: 0.0365 - val_auc: 0.9019 - val_loss: 0.0179 - lr: 1.9400e-04\n",
      "Epoch 5/20\n",
      "121/121 [==============================] - 84s 697ms/step - auc: 0.9354 - loss: 0.0332 - val_auc: 0.9092 - val_loss: 0.0174 - lr: 2.5700e-04\n",
      "Epoch 6/20\n",
      "121/121 [==============================] - 84s 692ms/step - auc: 0.9413 - loss: 0.0318 - val_auc: 0.9184 - val_loss: 0.0168 - lr: 3.2000e-04\n",
      "Epoch 7/20\n",
      "121/121 [==============================] - 77s 636ms/step - auc: 0.9486 - loss: 0.0297 - val_auc: 0.9176 - val_loss: 0.0171 - lr: 3.2000e-04\n",
      "Epoch 8/20\n",
      "121/121 [==============================] - 84s 693ms/step - auc: 0.9527 - loss: 0.0289 - val_auc: 0.9239 - val_loss: 0.0163 - lr: 3.2000e-04\n",
      "Epoch 9/20\n",
      "121/121 [==============================] - 77s 636ms/step - auc: 0.9596 - loss: 0.0268 - val_auc: 0.9198 - val_loss: 0.0165 - lr: 2.5620e-04\n",
      "Epoch 10/20\n",
      "121/121 [==============================] - 77s 640ms/step - auc: 0.9656 - loss: 0.0250 - val_auc: 0.9226 - val_loss: 0.0164 - lr: 2.0516e-04\n",
      "Epoch 11/20\n",
      "121/121 [==============================] - 81s 667ms/step - auc: 0.9688 - loss: 0.0240 - val_auc: 0.9256 - val_loss: 0.0167 - lr: 1.6433e-04\n",
      "Epoch 12/20\n",
      "121/121 [==============================] - 77s 637ms/step - auc: 0.9713 - loss: 0.0231 - val_auc: 0.9163 - val_loss: 0.0174 - lr: 1.3166e-04\n",
      "Epoch 13/20\n",
      "121/121 [==============================] - 77s 638ms/step - auc: 0.9741 - loss: 0.0220 - val_auc: 0.9164 - val_loss: 0.0183 - lr: 1.0553e-04\n",
      "Epoch 14/20\n",
      "121/121 [==============================] - 77s 638ms/step - auc: 0.9778 - loss: 0.0203 - val_auc: 0.9225 - val_loss: 0.0188 - lr: 8.4624e-05\n",
      "Epoch 15/20\n",
      "121/121 [==============================] - 78s 641ms/step - auc: 0.9811 - loss: 0.0187 - val_auc: 0.9201 - val_loss: 0.0185 - lr: 6.7899e-05\n",
      "Epoch 16/20\n",
      "121/121 [==============================] - 77s 637ms/step - auc: 0.9827 - loss: 0.0179 - val_auc: 0.9254 - val_loss: 0.0189 - lr: 5.4519e-05\n",
      "Epoch 17/20\n",
      "121/121 [==============================] - 77s 635ms/step - auc: 0.9843 - loss: 0.0171 - val_auc: 0.9248 - val_loss: 0.0181 - lr: 4.3815e-05\n",
      "Epoch 18/20\n",
      "121/121 [==============================] - 77s 636ms/step - auc: 0.9854 - loss: 0.0165 - val_auc: 0.9234 - val_loss: 0.0187 - lr: 3.5252e-05\n",
      "Epoch 19/20\n",
      "121/121 [==============================] - 77s 638ms/step - auc: 0.9863 - loss: 0.0159 - val_auc: 0.9205 - val_loss: 0.0194 - lr: 2.8402e-05\n",
      "Epoch 20/20\n",
      "121/121 [==============================] - 82s 676ms/step - auc: 0.9873 - loss: 0.0154 - val_auc: 0.9208 - val_loss: 0.0194 - lr: 2.2922e-05\n",
      "\u001b[32m Loading best model...MAX VAL_AUC\n",
      "Predicting OOF with TTA...MAX VAL_AUC\n",
      "533/532 [==============================] - 181s 340ms/step\n",
      "Predicting Test with TTA...MAX VAL_AUC \u001b[0m\n",
      "537/536 [==============================] - 183s 341ms/step\n",
      "\u001b[36m Loading best model loss-fold-2.h5...MIN VAL_LOSS\n",
      "Predicting OOF with TTA...MIN VAL_LOSS\n",
      "533/532 [==============================] - 183s 343ms/step\n",
      "Predicting Test with TTA...MIN VAL_LOSS \u001b[0m\n",
      "537/536 [==============================] - 183s 341ms/step\n",
      "#### FOLD 3 OOF AUC without TTA = 0.926, with TTA = 0.934 , with TTA_rank = 0.933\n"
     ]
    },
    {
     "data": {
      "image/png": "[encoded data removed]",
      "text/plain": [
       "<Figure size 1080x360 with 2 Axes>"
      ]
     },
     "metadata": {
      "needs_background": "light"
     },
     "output_type": "display_data"
    }
   ],
   "source": [
    "# USE VERBOSE=0 for silent, VERBOSE=1 for interactive, VERBOSE=2 for commit\n",
    "VERBOSE = 1\n",
    "DISPLAY_PLOT = True\n",
    "\n",
    "skf = KFold(n_splits=FOLDS,shuffle=True,random_state=SEED)\n",
    "oof_pred = []; oof_tar = []; oof_val = []; oof_names = []; oof_folds = [] \n",
    "oof_pred_rank = []\n",
    "preds = np.zeros((count_data_items(files_test),1))\n",
    "preds_rank = np.zeros((count_data_items(files_test),1))\n",
    "\n",
    "for fold,(idxT,idxV) in enumerate(skf.split(np.arange(15))):\n",
    "#     if fold != train_fold:\n",
    "#         continue\n",
    "    # DISPLAY FOLD INFO\n",
    "    if DEVICE=='TPU':\n",
    "        if tpu: tf.tpu.experimental.initialize_tpu_system(tpu)\n",
    "    if BCE:\n",
    "        p_loss = 'BinaryCrossentropy'\n",
    "    else:\n",
    "        p_loss = 'Focal Loss'\n",
    "    print('#'*25); print('#### FOLD',fold+1)\n",
    "    print('#### Image Size %i with EfficientNet B%i and batch_size %i loss= %s'%\n",
    "          (IMG_SIZES[fold],EFF_NETS[fold],BATCH_SIZES[fold],p_loss))\n",
    "    \n",
    "    # CREATE TRAIN AND VALIDATION SUBSETS\n",
    "    files_train = tf.io.gfile.glob([GCS_PATH[fold] + '/train%.2i*.tfrec'%x for x in idxT])\n",
    "    if INC2019[fold]:\n",
    "        files_train += tf.io.gfile.glob([GCS_PATH2[fold] + '/train%.2i*.tfrec'%x for x in idxT*2+1])\n",
    "        print('#### Using 2019 external data')\n",
    "    if INC2018[fold]:\n",
    "        files_train += tf.io.gfile.glob([GCS_PATH2[fold] + '/train%.2i*.tfrec'%x for x in idxT*2])\n",
    "        print('#### Using 2018+2017 external data')\n",
    "    for k in range(M1[fold]):\n",
    "        files_train += tf.io.gfile.glob([GCS_PATH3[fold] + '/train%.2i*.tfrec'%x for x in idxT])\n",
    "        print('#### Upsample MALIG-1 data (2020 comp)')\n",
    "    for k in range(M2[fold]):\n",
    "        files_train += tf.io.gfile.glob([GCS_PATH3[fold] + '/train%.2i*.tfrec'%x for x in idxT+15])\n",
    "        print('#### Upsample MALIG-2 data (ISIC website)')\n",
    "    for k in range(M3[fold]):\n",
    "        files_train += tf.io.gfile.glob([GCS_PATH3[fold] + '/train%.2i*.tfrec'%x for x in idxT*2+1+30])\n",
    "        print('#### Upsample MALIG-3 data (2019 comp)')\n",
    "    for k in range(M4[fold]):\n",
    "        files_train += tf.io.gfile.glob([GCS_PATH3[fold] + '/train%.2i*.tfrec'%x for x in idxT*2+30])\n",
    "        print('#### Upsample MALIG-4 data (2018 2017 comp)')\n",
    "    np.random.shuffle(files_train)\n",
    "    print('#'*25)\n",
    "    \n",
    "    files_valid = tf.io.gfile.glob([GCS_PATH[fold] + '/train%.2i*.tfrec'%x for x in idxV])\n",
    "    files_test = np.sort(np.array(tf.io.gfile.glob(GCS_PATH[fold] + '/test*.tfrec')))\n",
    "    \n",
    "    # BUILD MODEL\n",
    "    K.clear_session()\n",
    "    with strategy.scope():\n",
    "        model = build_model(dim=IMG_SIZES[fold],ef=EFF_NETS[fold])\n",
    "        \n",
    "    call_backs = []\n",
    "    \n",
    "    # SAVE BEST MODEL EACH FOLD\n",
    "    if ModelCheckpoint:   \n",
    "        sv1 = tf.keras.callbacks.ModelCheckpoint(\n",
    "            'auc-fold-%i.h5'%fold, monitor='val_auc', verbose=0, save_best_only=True,\n",
    "            save_weights_only=True, mode='max', save_freq='epoch')\n",
    "        call_backs.append(sv1)\n",
    "        \n",
    "        sv2 = tf.keras.callbacks.ModelCheckpoint(\n",
    "            'loss-fold-%i.h5'%fold, monitor='val_loss', verbose=0, save_best_only=True,\n",
    "            save_weights_only=True, mode='min', save_freq='epoch')\n",
    "        call_backs.append(sv2)\n",
    "        \n",
    "    # csv_logger\n",
    "    if CSVLogger:\n",
    "        csv_logger = tf.keras.callbacks.CSVLogger('fold_%i_log.csv'%fold, separator=',', append=False)\n",
    "        call_backs.append(csv_logger)\n",
    "    \n",
    "    # rampup decy lr schedule\n",
    "    if Rampup_Decay:\n",
    "        lr_schedule = get_lr_callback(BATCH_SIZES[fold])\n",
    "        call_backs.append(lr_schedule)\n",
    "        \n",
    "    #cosine Callback\n",
    "    if Cosine_Schedule:\n",
    "        lr_schedule= get_cosine_schedule_with_warmup(lr=LR,num_warmup_steps=WARMUP,num_training_steps=EPOCHS[fold])\n",
    "        call_backs.append(lr_schedule)\n",
    "        \n",
    "    # Training Data\n",
    "    training_data = get_dataset(files_train, augment=True, \n",
    "                                shuffle=True, repeat=True,\n",
    "                                dim=IMG_SIZES[fold], batch_size = BATCH_SIZES[fold],\n",
    "                                droprate=DROP_FREQ[fold], dropct=DROP_CT[fold], \n",
    "                                dropsize=DROP_SIZE[fold])\n",
    "    # Validation Data\n",
    "    validation_data=get_dataset(files_valid,\n",
    "                                augment=False,\n",
    "                                shuffle=False,\n",
    "                                repeat=False,\n",
    "                                dim=IMG_SIZES[fold],\n",
    "                                batch_size = BATCH_SIZES[fold])\n",
    "        \n",
    "    # TRAIN MODEL\n",
    "    print('Training...')\n",
    "    history = model.fit(training_data, \n",
    "                        epochs=EPOCHS[fold], \n",
    "                        callbacks = call_backs, \n",
    "                        steps_per_epoch=count_data_items(files_train)/BATCH_SIZES[fold]//REPLICAS,\n",
    "                        validation_data = validation_data, \n",
    "                        #class_weight = {0:1,1:2},\n",
    "                        verbose=VERBOSE)\n",
    "    \n",
    "    print(Fore.GREEN,'Loading best model...MAX VAL_AUC')\n",
    "    model.load_weights('auc-fold-%i.h5'%fold)\n",
    "    \n",
    "    # PREDICT OOF USING TTA\n",
    "    print('Predicting OOF with TTA...MAX VAL_AUC')\n",
    "    ds_valid = get_dataset(files_valid,labeled=False,return_image_names=False,augment=True,\n",
    "            repeat=True,shuffle=False,dim=IMG_SIZES[fold],batch_size=BATCH_SIZES[fold]*2,\n",
    "            droprate=DROP_FREQ[fold], dropct=DROP_CT[fold], dropsize=DROP_SIZE[fold])\n",
    "    ct_valid = count_data_items(files_valid)\n",
    "    STEPS = TTA * ct_valid/BATCH_SIZES[fold]/2/REPLICAS\n",
    "    pred = model.predict(ds_valid,steps=STEPS,verbose=VERBOSE)[:TTA*ct_valid,] \n",
    "    pred_reshape = pred.reshape((ct_valid,TTA),order='F')\n",
    "    oof_pred.append( np.mean(pred_reshape,axis=1) )                 \n",
    "    oof_pred_rank.append( np.mean(getRanks(pred_reshape),axis=1) )     \n",
    "\n",
    "\n",
    "    # GET OOF TARGETS AND NAMES\n",
    "    ds_valid = get_dataset(files_valid, augment=False, repeat=False, dim=IMG_SIZES[fold],\n",
    "            labeled=True, return_image_names=True)\n",
    "    oof_tar.append( np.array([target.numpy() for img, target in iter(ds_valid.unbatch())]) )\n",
    "    oof_folds.append( np.ones_like(oof_tar[-1],dtype='int8')*fold )\n",
    "    ds = get_dataset(files_valid, augment=False, repeat=False, dim=IMG_SIZES[fold],\n",
    "                labeled=False, return_image_names=True)\n",
    "    oof_names.append( np.array([img_name.numpy().decode(\"utf-8\") for img, img_name in iter(ds.unbatch())]))\n",
    "\n",
    "    # PREDICT TEST USING TTA\n",
    "    print('Predicting Test with TTA...MAX VAL_AUC',Style.RESET_ALL)\n",
    "    ds_test = get_dataset(files_test,labeled=False,return_image_names=False,augment=True,\n",
    "            repeat=True,shuffle=False,dim=IMG_SIZES[fold],batch_size=BATCH_SIZES[fold]*2,\n",
    "            droprate=DROP_FREQ[fold], dropct=DROP_CT[fold], dropsize=DROP_SIZE[fold])\n",
    "    ct_test = count_data_items(files_test); STEPS = TTA * ct_test/BATCH_SIZES[fold]/2/REPLICAS\n",
    "    pred = model.predict(ds_test,steps=STEPS,verbose=VERBOSE)[:TTA*ct_test,] \n",
    "    pred_reshape = pred.reshape((ct_test,TTA),order='F')\n",
    "    preds[:,0] += np.mean(pred_reshape,axis=1) * WGTS[fold]\n",
    "    preds_rank[:,0] += np.mean(getRanks(pred_reshape),axis=1) * WGTS[fold]\n",
    "    \n",
    "    \n",
    "    print(Fore.CYAN ,'Loading best model loss-fold-%i.h5...MIN VAL_LOSS'%fold)\n",
    "    model.load_weights('loss-fold-%i.h5'%fold)\n",
    "    \n",
    "    # PREDICT OOF USING TTA\n",
    "    print('Predicting OOF with TTA...MIN VAL_LOSS')\n",
    "    ds_valid = get_dataset(files_valid,labeled=False,return_image_names=False,augment=True,\n",
    "            repeat=True,shuffle=False,dim=IMG_SIZES[fold],batch_size=BATCH_SIZES[fold]*2,\n",
    "            droprate=DROP_FREQ[fold], dropct=DROP_CT[fold], dropsize=DROP_SIZE[fold])\n",
    "    ct_valid = count_data_items(files_valid)\n",
    "    STEPS = TTA * ct_valid/BATCH_SIZES[fold]/2/REPLICAS\n",
    "    pred = model.predict(ds_valid,steps=STEPS,verbose=VERBOSE)[:TTA*ct_valid,] \n",
    "    pred_reshape = pred.reshape((ct_valid,TTA),order='F')\n",
    "    oof_pred.append( np.mean(pred_reshape,axis=1) )                 \n",
    "    oof_pred_rank.append( np.mean(getRanks(pred_reshape),axis=1) )     \n",
    "\n",
    "\n",
    "    # GET OOF TARGETS AND NAMES\n",
    "    ds_valid = get_dataset(files_valid, augment=False, repeat=False, dim=IMG_SIZES[fold],\n",
    "            labeled=True, return_image_names=True)\n",
    "    oof_tar.append( np.array([target.numpy() for img, target in iter(ds_valid.unbatch())]) )\n",
    "    oof_folds.append( np.ones_like(oof_tar[-1],dtype='int8')*fold )\n",
    "    ds = get_dataset(files_valid, augment=False, repeat=False, dim=IMG_SIZES[fold],\n",
    "                labeled=False, return_image_names=True)\n",
    "    oof_names.append( np.array([img_name.numpy().decode(\"utf-8\") for img, img_name in iter(ds.unbatch())]))\n",
    "\n",
    "    # PREDICT TEST USING TTA\n",
    "    print('Predicting Test with TTA...MIN VAL_LOSS',Style.RESET_ALL)\n",
    "    ds_test = get_dataset(files_test,labeled=False,return_image_names=False,augment=True,\n",
    "            repeat=True,shuffle=False,dim=IMG_SIZES[fold],batch_size=BATCH_SIZES[fold]*2,\n",
    "            droprate=DROP_FREQ[fold], dropct=DROP_CT[fold], dropsize=DROP_SIZE[fold])\n",
    "    ct_test = count_data_items(files_test); STEPS = TTA * ct_test/BATCH_SIZES[fold]/2/REPLICAS\n",
    "    pred = model.predict(ds_test,steps=STEPS,verbose=VERBOSE)[:TTA*ct_test,] \n",
    "    pred_reshape = pred.reshape((ct_test,TTA),order='F')\n",
    "    preds[:,0] += np.mean(pred_reshape,axis=1) * WGTS[fold]\n",
    "    preds_rank[:,0] += np.mean(getRanks(pred_reshape),axis=1) * WGTS[fold]\n",
    "\n",
    "    # REPORT RESULTS\n",
    "    auc_rank = roc_auc_score(oof_tar[-1],oof_pred_rank[-1])\n",
    "    auc = roc_auc_score(oof_tar[-1],oof_pred[-1])\n",
    "    oof_val.append(np.max( history.history['val_auc'] ))\n",
    "    print('#### FOLD %i OOF AUC without TTA = %.3f, with TTA = %.3f , with TTA_rank = %.3f'%(fold+1,oof_val[-1],auc,auc_rank))\n",
    "    \n",
    "    # PLOT TRAINING\n",
    "    if DISPLAY_PLOT:\n",
    "        plt.figure(figsize=(15,5))\n",
    "        plt.plot(np.arange(EPOCHS[fold]),history.history['auc'],'-o',label='Train AUC',color='#ff7f0e')\n",
    "        plt.plot(np.arange(EPOCHS[fold]),history.history['val_auc'],'-o',label='Val AUC',color='#1f77b4')\n",
    "        x = np.argmax( history.history['val_auc'] ); y = np.max( history.history['val_auc'] )\n",
    "        xdist = plt.xlim()[1] - plt.xlim()[0]; ydist = plt.ylim()[1] - plt.ylim()[0]\n",
    "        plt.scatter(x,y,s=200,color='#1f77b4'); plt.text(x-0.03*xdist,y-0.13*ydist,'max auc\\n%.2f'%y,size=14)\n",
    "        plt.ylabel('AUC',size=14); plt.xlabel('Epoch',size=14)\n",
    "        plt.legend(loc=2)\n",
    "        plt2 = plt.gca().twinx()\n",
    "        plt2.plot(np.arange(EPOCHS[fold]),history.history['loss'],'-o',label='Train Loss',color='#2ca02c')\n",
    "        plt2.plot(np.arange(EPOCHS[fold]),history.history['val_loss'],'-o',label='Val Loss',color='#d62728')\n",
    "        x = np.argmin( history.history['val_loss'] ); y = np.min( history.history['val_loss'] )\n",
    "        ydist = plt.ylim()[1] - plt.ylim()[0]\n",
    "        plt.scatter(x,y,s=200,color='#d62728'); plt.text(x-0.03*xdist,y+0.05*ydist,'min loss',size=14)\n",
    "        plt.ylabel('Loss',size=14)\n",
    "        plt.title('FOLD %i - Image Size %i, EfficientNet B%i, inc2019=%i, inc2018=%i Loss=%s'%\n",
    "                (fold+1,IMG_SIZES[fold],EFF_NETS[fold],INC2019[fold],INC2018[fold],p_loss),size=18)\n",
    "        plt.legend(loc=3)\n",
    "        plt.savefig('fold_%i.png'%fold)\n",
    "        plt.show()  "
   ]
  },
  {
   "cell_type": "markdown",
   "execution_count": null,
   "metadata": {
    "papermill": {
     "duration": 0.943642,
     "end_time": "2020-08-11T16:22:34.219221",
     "exception": false,
     "start_time": "2020-08-11T16:22:33.275579",
     "status": "completed"
    },
    "tags": []
   },
   "source": [
    "## Calculate OOF AUC\n",
    "The OOF (out of fold) predictions are saved to disk. If you wish to ensemble multiple models, use the OOF to determine what are the best weights to blend your models with. Choose weights that maximize OOF CV score when used to blend OOF. Then use those same weights to blend your test predictions."
   ]
  },
  {
   "cell_type": "code",
   "execution_count": 19,
   "metadata": {
    "execution": {
     "iopub.execute_input": "2020-08-11T16:22:36.361935Z",
     "iopub.status.busy": "2020-08-11T16:22:36.361067Z",
     "iopub.status.idle": "2020-08-11T16:22:36.916911Z",
     "shell.execute_reply": "2020-08-11T16:22:36.916121Z"
    },
    "papermill": {
     "duration": 1.641655,
     "end_time": "2020-08-11T16:22:36.917055",
     "exception": false,
     "start_time": "2020-08-11T16:22:35.275400",
     "status": "completed"
    },
    "tags": []
   },
   "outputs": [
    {
     "name": "stdout",
     "output_type": "stream",
     "text": [
      "Overall OOF AUC with TTA = 0.930\n",
      "Overall OOF AUC with TTA_rank = 0.933\n"
     ]
    },
    {
     "data": {
      "text/html": [
       "<div>\n",
       "<style scoped>\n",
       "    .dataframe tbody tr th:only-of-type {\n",
       "        vertical-align: middle;\n",
       "    }\n",
       "\n",
       "    .dataframe tbody tr th {\n",
       "        vertical-align: top;\n",
       "    }\n",
       "\n",
       "    .dataframe thead th {\n",
       "        text-align: right;\n",
       "    }\n",
       "</style>\n",
       "<table border=\"1\" class=\"dataframe\">\n",
       "  <thead>\n",
       "    <tr style=\"text-align: right;\">\n",
       "      <th></th>\n",
       "      <th>image_name</th>\n",
       "      <th>target</th>\n",
       "      <th>pred</th>\n",
       "      <th>fold</th>\n",
       "    </tr>\n",
       "  </thead>\n",
       "  <tbody>\n",
       "    <tr>\n",
       "      <th>0</th>\n",
       "      <td>ISIC_2637011</td>\n",
       "      <td>0</td>\n",
       "      <td>0.009799</td>\n",
       "      <td>0</td>\n",
       "    </tr>\n",
       "    <tr>\n",
       "      <th>1</th>\n",
       "      <td>ISIC_0082348</td>\n",
       "      <td>0</td>\n",
       "      <td>0.013049</td>\n",
       "      <td>0</td>\n",
       "    </tr>\n",
       "    <tr>\n",
       "      <th>2</th>\n",
       "      <td>ISIC_0076262</td>\n",
       "      <td>0</td>\n",
       "      <td>0.043316</td>\n",
       "      <td>0</td>\n",
       "    </tr>\n",
       "    <tr>\n",
       "      <th>3</th>\n",
       "      <td>ISIC_0074268</td>\n",
       "      <td>0</td>\n",
       "      <td>0.003103</td>\n",
       "      <td>0</td>\n",
       "    </tr>\n",
       "    <tr>\n",
       "      <th>4</th>\n",
       "      <td>ISIC_0079038</td>\n",
       "      <td>0</td>\n",
       "      <td>0.000650</td>\n",
       "      <td>0</td>\n",
       "    </tr>\n",
       "  </tbody>\n",
       "</table>\n",
       "</div>"
      ],
      "text/plain": [
       "     image_name  target      pred  fold\n",
       "0  ISIC_2637011       0  0.009799     0\n",
       "1  ISIC_0082348       0  0.013049     0\n",
       "2  ISIC_0076262       0  0.043316     0\n",
       "3  ISIC_0074268       0  0.003103     0\n",
       "4  ISIC_0079038       0  0.000650     0"
      ]
     },
     "execution_count": 19,
     "metadata": {},
     "output_type": "execute_result"
    }
   ],
   "source": [
    "# COMPUTE OVERALL OOF AUC\n",
    "oof = np.concatenate(oof_pred); true = np.concatenate(oof_tar);\n",
    "names = np.concatenate(oof_names); folds = np.concatenate(oof_folds)\n",
    "oof_rank = np.concatenate(oof_pred_rank)\n",
    "auc = roc_auc_score(true,oof)\n",
    "auc_rank = roc_auc_score(true,oof_rank)\n",
    "print('Overall OOF AUC with TTA = %.3f'%auc)\n",
    "print('Overall OOF AUC with TTA_rank = %.3f'%auc_rank)\n",
    "\n",
    "# SAVE OOF TO DISK\n",
    "df_oof = pd.DataFrame(dict(\n",
    "    image_name = names, target=true, pred = oof, fold=folds))\n",
    "df_oof.to_csv('oof.csv',index=False)\n",
    "df_oof.head()"
   ]
  },
  {
   "cell_type": "code",
   "execution_count": 20,
   "metadata": {
    "execution": {
     "iopub.execute_input": "2020-08-11T16:22:38.910037Z",
     "iopub.status.busy": "2020-08-11T16:22:38.909183Z",
     "iopub.status.idle": "2020-08-11T16:22:39.221471Z",
     "shell.execute_reply": "2020-08-11T16:22:39.222189Z"
    },
    "papermill": {
     "duration": 1.366713,
     "end_time": "2020-08-11T16:22:39.222391",
     "exception": false,
     "start_time": "2020-08-11T16:22:37.855678",
     "status": "completed"
    },
    "tags": []
   },
   "outputs": [
    {
     "data": {
      "text/html": [
       "<div>\n",
       "<style scoped>\n",
       "    .dataframe tbody tr th:only-of-type {\n",
       "        vertical-align: middle;\n",
       "    }\n",
       "\n",
       "    .dataframe tbody tr th {\n",
       "        vertical-align: top;\n",
       "    }\n",
       "\n",
       "    .dataframe thead th {\n",
       "        text-align: right;\n",
       "    }\n",
       "</style>\n",
       "<table border=\"1\" class=\"dataframe\">\n",
       "  <thead>\n",
       "    <tr style=\"text-align: right;\">\n",
       "      <th></th>\n",
       "      <th>image_name</th>\n",
       "      <th>target</th>\n",
       "      <th>pred</th>\n",
       "      <th>fold</th>\n",
       "    </tr>\n",
       "  </thead>\n",
       "  <tbody>\n",
       "    <tr>\n",
       "      <th>0</th>\n",
       "      <td>ISIC_2637011</td>\n",
       "      <td>0</td>\n",
       "      <td>0.305194</td>\n",
       "      <td>0</td>\n",
       "    </tr>\n",
       "    <tr>\n",
       "      <th>1</th>\n",
       "      <td>ISIC_0082348</td>\n",
       "      <td>0</td>\n",
       "      <td>0.391705</td>\n",
       "      <td>0</td>\n",
       "    </tr>\n",
       "    <tr>\n",
       "      <th>2</th>\n",
       "      <td>ISIC_0076262</td>\n",
       "      <td>0</td>\n",
       "      <td>0.644045</td>\n",
       "      <td>0</td>\n",
       "    </tr>\n",
       "    <tr>\n",
       "      <th>3</th>\n",
       "      <td>ISIC_0074268</td>\n",
       "      <td>0</td>\n",
       "      <td>0.143257</td>\n",
       "      <td>0</td>\n",
       "    </tr>\n",
       "    <tr>\n",
       "      <th>4</th>\n",
       "      <td>ISIC_0079038</td>\n",
       "      <td>0</td>\n",
       "      <td>0.020964</td>\n",
       "      <td>0</td>\n",
       "    </tr>\n",
       "  </tbody>\n",
       "</table>\n",
       "</div>"
      ],
      "text/plain": [
       "     image_name  target      pred  fold\n",
       "0  ISIC_2637011       0  0.305194     0\n",
       "1  ISIC_0082348       0  0.391705     0\n",
       "2  ISIC_0076262       0  0.644045     0\n",
       "3  ISIC_0074268       0  0.143257     0\n",
       "4  ISIC_0079038       0  0.020964     0"
      ]
     },
     "execution_count": 20,
     "metadata": {},
     "output_type": "execute_result"
    }
   ],
   "source": [
    "# SAVE OOF TO DISK\n",
    "df_oof_rank = pd.DataFrame(dict(\n",
    "    image_name = names, target=true, pred = oof_rank, fold=folds))\n",
    "df_oof_rank.to_csv('oof_rank.csv',index=False)\n",
    "df_oof_rank.head()"
   ]
  },
  {
   "cell_type": "markdown",
   "execution_count": null,
   "metadata": {
    "papermill": {
     "duration": 1.044299,
     "end_time": "2020-08-11T16:22:41.211474",
     "exception": false,
     "start_time": "2020-08-11T16:22:40.167175",
     "status": "completed"
    },
    "tags": []
   },
   "source": [
    "# Step 5: Post process\n",
    "There are ways to modify predictions based on patient information to increase CV LB. You can experiment with that here on your OOF."
   ]
  },
  {
   "cell_type": "markdown",
   "execution_count": null,
   "metadata": {
    "papermill": {
     "duration": 1.044426,
     "end_time": "2020-08-11T16:22:43.192015",
     "exception": false,
     "start_time": "2020-08-11T16:22:42.147589",
     "status": "completed"
    },
    "tags": []
   },
   "source": [
    "# Submit To Kaggle"
   ]
  },
  {
   "cell_type": "code",
   "execution_count": 21,
   "metadata": {
    "execution": {
     "iopub.execute_input": "2020-08-11T16:22:45.074294Z",
     "iopub.status.busy": "2020-08-11T16:22:45.073199Z",
     "iopub.status.idle": "2020-08-11T16:23:08.477833Z",
     "shell.execute_reply": "2020-08-11T16:23:08.478418Z"
    },
    "papermill": {
     "duration": 24.3475,
     "end_time": "2020-08-11T16:23:08.478649",
     "exception": false,
     "start_time": "2020-08-11T16:22:44.131149",
     "status": "completed"
    },
    "tags": []
   },
   "outputs": [],
   "source": [
    "ds = get_dataset(files_test, augment=False, repeat=False, dim=IMG_SIZES[fold],\n",
    "                 labeled=False, return_image_names=True)\n",
    "\n",
    "image_names = np.array([img_name.numpy().decode(\"utf-8\") \n",
    "                        for img, img_name in iter(ds.unbatch())])"
   ]
  },
  {
   "cell_type": "code",
   "execution_count": 22,
   "metadata": {
    "execution": {
     "iopub.execute_input": "2020-08-11T16:23:10.561939Z",
     "iopub.status.busy": "2020-08-11T16:23:10.557814Z",
     "iopub.status.idle": "2020-08-11T16:23:10.646633Z",
     "shell.execute_reply": "2020-08-11T16:23:10.645788Z"
    },
    "papermill": {
     "duration": 1.132974,
     "end_time": "2020-08-11T16:23:10.646779",
     "exception": false,
     "start_time": "2020-08-11T16:23:09.513805",
     "status": "completed"
    },
    "tags": []
   },
   "outputs": [
    {
     "data": {
      "text/html": [
       "<div>\n",
       "<style scoped>\n",
       "    .dataframe tbody tr th:only-of-type {\n",
       "        vertical-align: middle;\n",
       "    }\n",
       "\n",
       "    .dataframe tbody tr th {\n",
       "        vertical-align: top;\n",
       "    }\n",
       "\n",
       "    .dataframe thead th {\n",
       "        text-align: right;\n",
       "    }\n",
       "</style>\n",
       "<table border=\"1\" class=\"dataframe\">\n",
       "  <thead>\n",
       "    <tr style=\"text-align: right;\">\n",
       "      <th></th>\n",
       "      <th>image_name</th>\n",
       "      <th>target</th>\n",
       "    </tr>\n",
       "  </thead>\n",
       "  <tbody>\n",
       "    <tr>\n",
       "      <th>9905</th>\n",
       "      <td>ISIC_0052060</td>\n",
       "      <td>0.031475</td>\n",
       "    </tr>\n",
       "    <tr>\n",
       "      <th>1443</th>\n",
       "      <td>ISIC_0052349</td>\n",
       "      <td>0.046338</td>\n",
       "    </tr>\n",
       "    <tr>\n",
       "      <th>3120</th>\n",
       "      <td>ISIC_0058510</td>\n",
       "      <td>0.031752</td>\n",
       "    </tr>\n",
       "    <tr>\n",
       "      <th>4870</th>\n",
       "      <td>ISIC_0073313</td>\n",
       "      <td>0.024500</td>\n",
       "    </tr>\n",
       "    <tr>\n",
       "      <th>5494</th>\n",
       "      <td>ISIC_0073502</td>\n",
       "      <td>0.054781</td>\n",
       "    </tr>\n",
       "  </tbody>\n",
       "</table>\n",
       "</div>"
      ],
      "text/plain": [
       "        image_name    target\n",
       "9905  ISIC_0052060  0.031475\n",
       "1443  ISIC_0052349  0.046338\n",
       "3120  ISIC_0058510  0.031752\n",
       "4870  ISIC_0073313  0.024500\n",
       "5494  ISIC_0073502  0.054781"
      ]
     },
     "execution_count": 22,
     "metadata": {},
     "output_type": "execute_result"
    }
   ],
   "source": [
    "submission = pd.DataFrame(dict(image_name=image_names, target=preds[:,0]))\n",
    "submission = submission.sort_values('image_name') \n",
    "submission.to_csv('submission.csv', index=False)\n",
    "submission.head()"
   ]
  },
  {
   "cell_type": "code",
   "execution_count": 23,
   "metadata": {
    "execution": {
     "iopub.execute_input": "2020-08-11T16:23:12.553295Z",
     "iopub.status.busy": "2020-08-11T16:23:12.547544Z",
     "iopub.status.idle": "2020-08-11T16:23:12.960184Z",
     "shell.execute_reply": "2020-08-11T16:23:12.959420Z"
    },
    "papermill": {
     "duration": 1.35042,
     "end_time": "2020-08-11T16:23:12.960330",
     "exception": false,
     "start_time": "2020-08-11T16:23:11.609910",
     "status": "completed"
    },
    "tags": []
   },
   "outputs": [
    {
     "data": {
      "image/png": "[encoded data removed]",
      "text/plain": [
       "<Figure size 432x288 with 1 Axes>"
      ]
     },
     "metadata": {
      "needs_background": "light"
     },
     "output_type": "display_data"
    }
   ],
   "source": [
    "plt.hist(submission.target,bins=100)\n",
    "plt.show()"
   ]
  },
  {
   "cell_type": "code",
   "execution_count": 24,
   "metadata": {
    "execution": {
     "iopub.execute_input": "2020-08-11T16:23:15.041811Z",
     "iopub.status.busy": "2020-08-11T16:23:15.040974Z",
     "iopub.status.idle": "2020-08-11T16:23:15.123010Z",
     "shell.execute_reply": "2020-08-11T16:23:15.122301Z"
    },
    "papermill": {
     "duration": 1.134719,
     "end_time": "2020-08-11T16:23:15.123170",
     "exception": false,
     "start_time": "2020-08-11T16:23:13.988451",
     "status": "completed"
    },
    "tags": []
   },
   "outputs": [
    {
     "data": {
      "text/html": [
       "<div>\n",
       "<style scoped>\n",
       "    .dataframe tbody tr th:only-of-type {\n",
       "        vertical-align: middle;\n",
       "    }\n",
       "\n",
       "    .dataframe tbody tr th {\n",
       "        vertical-align: top;\n",
       "    }\n",
       "\n",
       "    .dataframe thead th {\n",
       "        text-align: right;\n",
       "    }\n",
       "</style>\n",
       "<table border=\"1\" class=\"dataframe\">\n",
       "  <thead>\n",
       "    <tr style=\"text-align: right;\">\n",
       "      <th></th>\n",
       "      <th>image_name</th>\n",
       "      <th>target</th>\n",
       "    </tr>\n",
       "  </thead>\n",
       "  <tbody>\n",
       "    <tr>\n",
       "      <th>9905</th>\n",
       "      <td>ISIC_0052060</td>\n",
       "      <td>0.476916</td>\n",
       "    </tr>\n",
       "    <tr>\n",
       "      <th>1443</th>\n",
       "      <td>ISIC_0052349</td>\n",
       "      <td>0.703817</td>\n",
       "    </tr>\n",
       "    <tr>\n",
       "      <th>3120</th>\n",
       "      <td>ISIC_0058510</td>\n",
       "      <td>0.507164</td>\n",
       "    </tr>\n",
       "    <tr>\n",
       "      <th>4870</th>\n",
       "      <td>ISIC_0073313</td>\n",
       "      <td>0.417945</td>\n",
       "    </tr>\n",
       "    <tr>\n",
       "      <th>5494</th>\n",
       "      <td>ISIC_0073502</td>\n",
       "      <td>0.671755</td>\n",
       "    </tr>\n",
       "  </tbody>\n",
       "</table>\n",
       "</div>"
      ],
      "text/plain": [
       "        image_name    target\n",
       "9905  ISIC_0052060  0.476916\n",
       "1443  ISIC_0052349  0.703817\n",
       "3120  ISIC_0058510  0.507164\n",
       "4870  ISIC_0073313  0.417945\n",
       "5494  ISIC_0073502  0.671755"
      ]
     },
     "execution_count": 24,
     "metadata": {},
     "output_type": "execute_result"
    }
   ],
   "source": [
    "submission_rank = pd.DataFrame(dict(image_name=image_names, target=preds_rank[:,0]))\n",
    "submission_rank = submission_rank.sort_values('image_name') \n",
    "submission_rank.to_csv('submission_rank.csv', index=False)\n",
    "submission_rank.head()"
   ]
  },
  {
   "cell_type": "code",
   "execution_count": 25,
   "metadata": {
    "execution": {
     "iopub.execute_input": "2020-08-11T16:23:17.006412Z",
     "iopub.status.busy": "2020-08-11T16:23:17.005582Z",
     "iopub.status.idle": "2020-08-11T16:23:17.417877Z",
     "shell.execute_reply": "2020-08-11T16:23:17.417208Z"
    },
    "papermill": {
     "duration": 1.355149,
     "end_time": "2020-08-11T16:23:17.418049",
     "exception": false,
     "start_time": "2020-08-11T16:23:16.062900",
     "status": "completed"
    },
    "tags": []
   },
   "outputs": [
    {
     "data": {
      "image/png": "[encoded data removed]",
      "text/plain": [
       "<Figure size 432x288 with 1 Axes>"
      ]
     },
     "metadata": {
      "needs_background": "light"
     },
     "output_type": "display_data"
    }
   ],
   "source": [
    "plt.hist(submission_rank.target,bins=100)\n",
    "plt.show()"
   ]
  },
  {
   "cell_type": "code",
   "execution_count": 26,
   "metadata": {
    "execution": {
     "iopub.execute_input": "2020-08-11T16:23:19.562106Z",
     "iopub.status.busy": "2020-08-11T16:23:19.561018Z",
     "iopub.status.idle": "2020-08-11T16:23:19.565336Z",
     "shell.execute_reply": "2020-08-11T16:23:19.564729Z"
    },
    "papermill": {
     "duration": 1.079835,
     "end_time": "2020-08-11T16:23:19.565474",
     "exception": false,
     "start_time": "2020-08-11T16:23:18.485639",
     "status": "completed"
    },
    "tags": []
   },
   "outputs": [],
   "source": [
    "# "
   ]
  },
  {
   "cell_type": "code",
   "execution_count": null,
   "metadata": {
    "papermill": {
     "duration": 0.933464,
     "end_time": "2020-08-11T16:23:21.432226",
     "exception": false,
     "start_time": "2020-08-11T16:23:20.498762",
     "status": "completed"
    },
    "tags": []
   },
   "outputs": [],
   "source": []
  }
 ],
 "metadata": {
  "kernelspec": {
   "display_name": "Python 3",
   "language": "python",
   "name": "python3"
  },
  "language_info": {
   "codemirror_mode": {
    "name": "ipython",
    "version": 3
   },
   "file_extension": ".py",
   "mimetype": "text/x-python",
   "name": "python",
   "nbconvert_exporter": "python",
   "pygments_lexer": "ipython3",
   "version": "3.7.6"
  },
  "papermill": {
   "duration": 8296.12732,
   "end_time": "2020-08-11T16:23:22.771868",
   "environment_variables": {},
   "exception": null,
   "input_path": "__notebook__.ipynb",
   "output_path": "__notebook__.ipynb",
   "parameters": {},
   "start_time": "2020-08-11T14:05:06.644548",
   "version": "2.1.0"
  }
 },
 "nbformat": 4,
 "nbformat_minor": 4
}
